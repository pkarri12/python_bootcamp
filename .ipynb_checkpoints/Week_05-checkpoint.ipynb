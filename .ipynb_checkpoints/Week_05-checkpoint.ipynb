{
 "cells": [
  {
   "cell_type": "markdown",
   "metadata": {},
   "source": [
    "## Creating & Calling Functions"
   ]
  },
  {
   "cell_type": "code",
   "execution_count": 8,
   "metadata": {},
   "outputs": [
    {
     "name": "stdout",
     "output_type": "stream",
     "text": [
      "Name: yaml\n",
      "Age: 33\n",
      "Name: yaml\n",
      "Age: 33\n"
     ]
    }
   ],
   "source": [
    "# function syntax\n",
    "#def functionName(para):\n",
    "# writing first function\n",
    "\n",
    "def printInfo():    # defines what the function does when called     \n",
    "        print(\"Name: yaml\")\n",
    "        print(\"Age: 33\")\n",
    "        \n",
    "printInfo()         # calls the function to run\n",
    "printInfo()         # calls the function again"
   ]
  },
  {
   "cell_type": "code",
   "execution_count": 13,
   "metadata": {
    "scrolled": true
   },
   "outputs": [
    {
     "name": "stdout",
     "output_type": "stream",
     "text": [
      "12\n"
     ]
    }
   ],
   "source": [
    "# performing a calculation in a function\n",
    "\n",
    "def calc():\n",
    "    x, y=4, 8\n",
    "    print(x+y)\n",
    "\n",
    "calc()        # will run the block of code within calc"
   ]
  },
  {
   "cell_type": "markdown",
   "metadata": {},
   "source": [
    "##### Monday Exercises"
   ]
  },
  {
   "cell_type": "code",
   "execution_count": 15,
   "metadata": {},
   "outputs": [
    {
     "name": "stdout",
     "output_type": "stream",
     "text": [
      "Sydney life\n"
     ]
    }
   ],
   "source": [
    "# print name\n",
    "\n",
    "def myName():\n",
    "    print(\"Sydney life\")\n",
    "    \n",
    "myName()"
   ]
  },
  {
   "cell_type": "code",
   "execution_count": 18,
   "metadata": {},
   "outputs": [
    {
     "name": "stdout",
     "output_type": "stream",
     "text": [
      "olives, spinach, tomatoes, cheese\n",
      "olives, spinach, tomatoes, cheese\n",
      "olives, spinach, tomatoes, cheese\n"
     ]
    }
   ],
   "source": [
    "# pizza toppings\n",
    "\n",
    "def pizza_tops():\n",
    "    print(\"olives, spinach, tomatoes, cheese\")\n",
    "    \n",
    "pizza_tops()\n",
    "pizza_tops()\n",
    "pizza_tops()"
   ]
  },
  {
   "cell_type": "markdown",
   "metadata": {},
   "source": [
    "##### Parameters"
   ]
  },
  {
   "cell_type": "code",
   "execution_count": 20,
   "metadata": {},
   "outputs": [
    {
     "name": "stdout",
     "output_type": "stream",
     "text": [
      "Hello yaml\n"
     ]
    }
   ],
   "source": [
    "# accepting parameters into a function\n",
    "\n",
    "def printName(name):\n",
    "    print(\"Hello {}\".format(name))\n",
    "    \n",
    "printName(\"yaml\")"
   ]
  },
  {
   "cell_type": "code",
   "execution_count": 21,
   "metadata": {},
   "outputs": [
    {
     "name": "stdout",
     "output_type": "stream",
     "text": [
      "Your name is: Jason Bunny\n",
      "Your name is: Alex Johnson\n"
     ]
    }
   ],
   "source": [
    "# passing a single parameter into a function\n",
    "\n",
    "def printName(full_name):\n",
    "    print(\"Your name is: {}\".format(full_name))\n",
    "    \n",
    "printName(\"Jason Bunny\")\n",
    "printName(\"Alex Johnson\")"
   ]
  },
  {
   "cell_type": "code",
   "execution_count": 23,
   "metadata": {},
   "outputs": [
    {
     "name": "stdout",
     "output_type": "stream",
     "text": [
      "6 + 7 = 13\n",
      "4.4 + 8.6 = 13.0\n"
     ]
    }
   ],
   "source": [
    "# passing multiple parameters into a function\n",
    "\n",
    "def addNums(num1, num2):\n",
    "    result=num1 + num2\n",
    "    print(\"{} + {} = {}\".format(num1, num2, result))\n",
    "\n",
    "addNums(6, 7)\n",
    "addNums(4.4, 8.6)"
   ]
  },
  {
   "cell_type": "code",
   "execution_count": 4,
   "metadata": {},
   "outputs": [
    {
     "name": "stdout",
     "output_type": "stream",
     "text": [
      "1\n",
      "9\n",
      "16\n",
      "49\n",
      "64\n",
      "25\n",
      "36\n",
      "81\n"
     ]
    }
   ],
   "source": [
    "# using a function to square all information - using lists\n",
    "\n",
    "numbers1=[1, 3, 4, 7, 8]\n",
    "numbers2=[5, 6, 9]\n",
    "def squares(nums):\n",
    "    for num in nums:\n",
    "        print(num**2)\n",
    "\n",
    "squares(numbers1)\n",
    "squares(numbers2)"
   ]
  },
  {
   "cell_type": "code",
   "execution_count": null,
   "metadata": {},
   "outputs": [],
   "source": [
    "# setting default parameter values\n"
   ]
  }
 ],
 "metadata": {
  "kernelspec": {
   "display_name": "Python 3",
   "language": "python",
   "name": "python3"
  },
  "language_info": {
   "codemirror_mode": {
    "name": "ipython",
    "version": 3
   },
   "file_extension": ".py",
   "mimetype": "text/x-python",
   "name": "python",
   "nbconvert_exporter": "python",
   "pygments_lexer": "ipython3",
   "version": "3.8.3"
  }
 },
 "nbformat": 4,
 "nbformat_minor": 4
}
