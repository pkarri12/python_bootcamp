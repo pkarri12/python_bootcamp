{
 "cells": [
  {
   "cell_type": "markdown",
   "metadata": {},
   "source": [
    "# Comments & Basic Data Types"
   ]
  },
  {
   "cell_type": "code",
   "execution_count": 2,
   "metadata": {
    "scrolled": true
   },
   "outputs": [
    {
     "name": "stdout",
     "output_type": "stream",
     "text": [
      "Hola\n"
     ]
    }
   ],
   "source": [
    "# this is a comment\n",
    "print(\"Hola\")    # this is also a comment"
   ]
  },
  {
   "cell_type": "code",
   "execution_count": 4,
   "metadata": {
    "scrolled": false
   },
   "outputs": [
    {
     "name": "stdout",
     "output_type": "stream",
     "text": [
      "Hello\n"
     ]
    }
   ],
   "source": [
    "\"\"\"\n",
    "This is a multi-line comment\n",
    "\"\"\"\n",
    "print(\"Hello\")   # this is also a comment"
   ]
  },
  {
   "cell_type": "code",
   "execution_count": 5,
   "metadata": {},
   "outputs": [
    {
     "name": "stdout",
     "output_type": "stream",
     "text": [
      "2\n",
      "10\n"
     ]
    }
   ],
   "source": [
    "# the following are all integers\n",
    "print(2)\n",
    "print(10)"
   ]
  },
  {
   "cell_type": "code",
   "execution_count": 6,
   "metadata": {},
   "outputs": [
    {
     "name": "stdout",
     "output_type": "stream",
     "text": [
      "10.789\n",
      "1.0\n"
     ]
    }
   ],
   "source": [
    "# the following are all floats \n",
    "print(10.789)\n",
    "print(1.0)   # even this number is a float"
   ]
  },
  {
   "cell_type": "code",
   "execution_count": 7,
   "metadata": {},
   "outputs": [
    {
     "name": "stdout",
     "output_type": "stream",
     "text": [
      "True\n",
      "False\n"
     ]
    }
   ],
   "source": [
    "# the following are booleans\n",
    "print(True)\n",
    "print(False)"
   ]
  },
  {
   "cell_type": "code",
   "execution_count": 8,
   "metadata": {
    "scrolled": true
   },
   "outputs": [
    {
     "name": "stdout",
     "output_type": "stream",
     "text": [
      " \n",
      "There's a snake in my boot!\n",
      "True\n"
     ]
    }
   ],
   "source": [
    "# the following are strings or string literals\n",
    "print(\" \")\n",
    "print(\"There's a snake in my boot!\")\n",
    "print('True')"
   ]
  },
  {
   "cell_type": "markdown",
   "metadata": {},
   "source": [
    "Variables"
   ]
  },
  {
   "cell_type": "code",
   "execution_count": 9,
   "metadata": {},
   "outputs": [
    {
     "name": "stdout",
     "output_type": "stream",
     "text": [
      "5 8.4\n"
     ]
    }
   ],
   "source": [
    "num1=5   # storing an integer into a variable\n",
    "num2=8.4 # storing a float into a variable\n",
    "print(num1, num2)  # you can print multiple items using commas"
   ]
  },
  {
   "cell_type": "code",
   "execution_count": 10,
   "metadata": {},
   "outputs": [
    {
     "name": "stdout",
     "output_type": "stream",
     "text": [
      "True\n"
     ]
    }
   ],
   "source": [
    "# storing a boolean into a variable\n",
    "switch=True\n",
    "print(switch)"
   ]
  },
  {
   "cell_type": "code",
   "execution_count": 11,
   "metadata": {},
   "outputs": [
    {
     "name": "stdout",
     "output_type": "stream",
     "text": [
      "John Smith 9\n"
     ]
    }
   ],
   "source": [
    "# storing strings into a variable\n",
    "name=\"John Smith\"\n",
    "fav_num=\"9\"\n",
    "print(name, fav_num)  # will print 9 next to the name"
   ]
  },
  {
   "cell_type": "code",
   "execution_count": 13,
   "metadata": {},
   "outputs": [
    {
     "name": "stdout",
     "output_type": "stream",
     "text": [
      "13.4\n"
     ]
    }
   ],
   "source": [
    "# using two variables to create another variable\n",
    "result=num1 + num2\n",
    "print(result)"
   ]
  },
  {
   "cell_type": "code",
   "execution_count": 14,
   "metadata": {},
   "outputs": [
    {
     "name": "stdout",
     "output_type": "stream",
     "text": [
      "14.4\n",
      "72.0\n"
     ]
    }
   ],
   "source": [
    "# adding, deleting, multiplying, dividing from a variable\n",
    "result += 1  # same as saying result=result + 1\n",
    "print(result)\n",
    "result *= num1  # same as saying result=result * num1\n",
    "print(result)"
   ]
  },
  {
   "cell_type": "code",
   "execution_count": 15,
   "metadata": {},
   "outputs": [
    {
     "name": "stdout",
     "output_type": "stream",
     "text": [
      "John\n",
      "Sam\n"
     ]
    }
   ],
   "source": [
    "# defining a variable and overwriting its value\n",
    "name=\"John\"\n",
    "print(name)\n",
    "name=\"Sam\"\n",
    "print(name)"
   ]
  },
  {
   "cell_type": "code",
   "execution_count": 17,
   "metadata": {},
   "outputs": [
    {
     "name": "stdout",
     "output_type": "stream",
     "text": [
      "30\n",
      "13\n"
     ]
    }
   ],
   "source": [
    "# Tuesday Exercises\n",
    "# variable output\n",
    "\n",
    "x=3\n",
    "y=10\n",
    "result=x * y\n",
    "print(result)\n",
    "result=x + y\n",
    "print(result)"
   ]
  },
  {
   "cell_type": "code",
   "execution_count": 18,
   "metadata": {},
   "outputs": [
    {
     "name": "stdout",
     "output_type": "stream",
     "text": [
      "3354.0764\n"
     ]
    }
   ],
   "source": [
    "# Tuesday Exercises\n",
    "# Area Calculation\n",
    "\n",
    "width=245.54\n",
    "height=13.66\n",
    "area=width * height\n",
    "print(area)"
   ]
  },
  {
   "cell_type": "markdown",
   "metadata": {},
   "source": [
    "Working With Strings"
   ]
  },
  {
   "cell_type": "code",
   "execution_count": 19,
   "metadata": {},
   "outputs": [
    {
     "name": "stdout",
     "output_type": "stream",
     "text": [
      "John Smith\n"
     ]
    }
   ],
   "source": [
    "# using the addition operator without variables\n",
    "\n",
    "name=\"John\" + \" \" + \"Smith\"\n",
    "print(name)"
   ]
  },
  {
   "cell_type": "code",
   "execution_count": 20,
   "metadata": {},
   "outputs": [
    {
     "name": "stdout",
     "output_type": "stream",
     "text": [
      "John Smith\n"
     ]
    }
   ],
   "source": [
    "# using the addition operator with variables\n",
    "\n",
    "first_name=\"John\"\n",
    "last_name=\"Smith\"\n",
    "full_name=first_name + \" \" + last_name\n",
    "print(full_name)"
   ]
  },
  {
   "cell_type": "code",
   "execution_count": 21,
   "metadata": {},
   "outputs": [
    {
     "name": "stdout",
     "output_type": "stream",
     "text": [
      "Hello John\n",
      "Hello John, you are 35 years old!\n"
     ]
    }
   ],
   "source": [
    "# injecting variables using the FORMAT METHOD\n",
    "\n",
    "name=\"John\"\n",
    "print(\"Hello {}\".format(name))\n",
    "print(\"Hello {}, you are {} years old!\".format(name, 35))"
   ]
  },
  {
   "cell_type": "code",
   "execution_count": 22,
   "metadata": {},
   "outputs": [
    {
     "name": "stdout",
     "output_type": "stream",
     "text": [
      "Hello John\n"
     ]
    }
   ],
   "source": [
    "# using the new f strings (you need python 3.6 to use this feature)\n",
    "\n",
    "name=\"John\"\n",
    "print(f\"Hello {name}\")"
   ]
  },
  {
   "cell_type": "code",
   "execution_count": 23,
   "metadata": {},
   "outputs": [
    {
     "name": "stdout",
     "output_type": "stream",
     "text": [
      "Hello, John\n"
     ]
    }
   ],
   "source": [
    "# formatting in python2\n",
    "# one major difference between versions 2 & 3\n",
    "name=\"John\"\n",
    "print(\"Hello, %s\" % name)"
   ]
  },
  {
   "cell_type": "code",
   "execution_count": 24,
   "metadata": {},
   "outputs": [
    {
     "name": "stdout",
     "output_type": "stream",
     "text": [
      "Hello, John Smith\n"
     ]
    }
   ],
   "source": [
    "# python 2 multiple variable formatting\n",
    "\n",
    "first_name=\"John\"\n",
    "last_name=\"Smith\"\n",
    "print(\"Hello, %s %s\" %(first_name, last_name))  # surround the variables in parenthesis"
   ]
  },
  {
   "cell_type": "code",
   "execution_count": 26,
   "metadata": {},
   "outputs": [
    {
     "name": "stdout",
     "output_type": "stream",
     "text": [
      "H\n",
      "e\n",
      "l\n",
      "l\n",
      "o\n"
     ]
    }
   ],
   "source": [
    "# using indexes to print each element\n",
    "\n",
    "word=\"Hello\"\n",
    "print(word[0])    # will output 'H'\n",
    "print(word[1])    # will output 'e'\n",
    "print(word[-3])\n",
    "print(word[-2])\n",
    "print(word[-1])   # will output 'o', the last letter"
   ]
  },
  {
   "cell_type": "code",
   "execution_count": 27,
   "metadata": {},
   "outputs": [
    {
     "name": "stdout",
     "output_type": "stream",
     "text": [
      "Hel\n",
      "Hlo\n"
     ]
    }
   ],
   "source": [
    "# String Slicing\n",
    "\n",
    "print(word[0:3])  # will output 'Hel'\n",
    "print(word[0:5:2]) # will output 'Hlo'"
   ]
  },
  {
   "cell_type": "markdown",
   "metadata": {},
   "source": [
    "Wednesday EXERCISES"
   ]
  },
  {
   "cell_type": "code",
   "execution_count": 28,
   "metadata": {},
   "outputs": [
    {
     "name": "stdout",
     "output_type": "stream",
     "text": [
      "33 4.5 False John\n"
     ]
    }
   ],
   "source": [
    "# variable injection\n",
    "\n",
    "name=\"John\"\n",
    "num1=33\n",
    "num2=4.5\n",
    "guess=False\n",
    "print(num1, num2, guess, name)\n"
   ]
  },
  {
   "cell_type": "code",
   "execution_count": 29,
   "metadata": {
    "scrolled": true
   },
   "outputs": [
    {
     "name": "stdout",
     "output_type": "stream",
     "text": [
      "Mario's favorite sports is volleyball.\n",
      "Mario is working on python programming!\n"
     ]
    }
   ],
   "source": [
    "# fill in the blanks\n",
    "\n",
    "name=\"Mario\"\n",
    "fav_sport=\"volleyball\"\n",
    "hobby=\"python\"\n",
    "print(\"{}'s favorite sports is {}.\".format(name, fav_sport))\n",
    "print(\"{} is working on {} programming!\".format(name, hobby))"
   ]
  },
  {
   "cell_type": "markdown",
   "metadata": {},
   "source": [
    "Manipulating Strings"
   ]
  },
  {
   "cell_type": "code",
   "execution_count": 31,
   "metadata": {},
   "outputs": [
    {
     "name": "stdout",
     "output_type": "stream",
     "text": [
      "John Smith\n",
      "john smith\n",
      "JOHN SMITH\n"
     ]
    }
   ],
   "source": [
    "# using the title method to capitalize a string\n",
    "\n",
    "name=\"john smith\"\n",
    "print(name.title())\n",
    "print(name.lower())\n",
    "print(name.upper())"
   ]
  },
  {
   "cell_type": "code",
   "execution_count": 32,
   "metadata": {},
   "outputs": [
    {
     "name": "stdout",
     "output_type": "stream",
     "text": [
      "Hello there.\n"
     ]
    }
   ],
   "source": [
    "# using the replace method to replace an exclamation point with a period\n",
    "\n",
    "words=\"Hello there!\"\n",
    "print(words.replace(\"!\", \".\"))"
   ]
  },
  {
   "cell_type": "code",
   "execution_count": 33,
   "metadata": {},
   "outputs": [
    {
     "name": "stdout",
     "output_type": "stream",
     "text": [
      "5\n"
     ]
    }
   ],
   "source": [
    "# finding the starting index of our searched term\n",
    "\n",
    "s=\"Look over that way\"\n",
    "print(s.find(\"over\"))"
   ]
  },
  {
   "cell_type": "code",
   "execution_count": 34,
   "metadata": {},
   "outputs": [
    {
     "name": "stdout",
     "output_type": "stream",
     "text": [
      "john\n",
      "john \n",
      " john\n"
     ]
    }
   ],
   "source": [
    "# removing white space with STRIP method\n",
    "name=\" john \"\n",
    "print(name.strip())\n",
    "print(name.lstrip())\n",
    "print(name.rstrip())"
   ]
  },
  {
   "cell_type": "code",
   "execution_count": 36,
   "metadata": {
    "scrolled": true
   },
   "outputs": [
    {
     "name": "stdout",
     "output_type": "stream",
     "text": [
      "['These', 'words', 'are', 'separated', 'by', 'spaces']\n"
     ]
    }
   ],
   "source": [
    "# converting a string into a list of words using SPLIT method\n",
    "\n",
    "s=\"These words are separated by spaces\"\n",
    "print(s.split(\" \"))"
   ]
  },
  {
   "cell_type": "markdown",
   "metadata": {},
   "source": [
    "Thursday Exercises"
   ]
  },
  {
   "cell_type": "code",
   "execution_count": 37,
   "metadata": {},
   "outputs": [
    {
     "name": "stdout",
     "output_type": "stream",
     "text": [
      "UPPERCASE\n"
     ]
    }
   ],
   "source": [
    "# Uppercasing\n",
    "\n",
    "word=\"uppercase\"\n",
    "print(word.upper())"
   ]
  },
  {
   "cell_type": "code",
   "execution_count": 39,
   "metadata": {},
   "outputs": [
    {
     "name": "stdout",
     "output_type": "stream",
     "text": [
      "John Smith\n",
      "John Smith\n"
     ]
    }
   ],
   "source": [
    "# Strip Symbols\n",
    "\n",
    "word=\"$$John Smith\"\n",
    "print(word.strip(\"$$\"))\n",
    "print(word.lstrip(\"$$\"))"
   ]
  },
  {
   "cell_type": "code",
   "execution_count": 40,
   "metadata": {},
   "outputs": [
    {
     "name": "stdout",
     "output_type": "stream",
     "text": [
      "Help on built-in function strip:\n",
      "\n",
      "strip(chars=None, /) method of builtins.str instance\n",
      "    Return a copy of the string with leading and trailing whitespace removed.\n",
      "    \n",
      "    If chars is given and not None, remove characters in chars instead.\n",
      "\n"
     ]
    }
   ],
   "source": [
    "help(\" \".strip)"
   ]
  },
  {
   "cell_type": "markdown",
   "metadata": {},
   "source": [
    "FRIDAY PROJECT: Printing Receipts"
   ]
  },
  {
   "cell_type": "code",
   "execution_count": 62,
   "metadata": {
    "scrolled": true
   },
   "outputs": [
    {
     "name": "stdout",
     "output_type": "stream",
     "text": [
      "**************************************************\n",
      "\t\tCoding Temple, Inc.\n",
      "\t\t283 Franklin St.\n",
      "\t\tBoston, MA\n",
      "==================================================\n",
      "\tProduct Name\t\tProduct Price\n",
      "\tBooks\t\t\t$49.95\n",
      "\tComputer\t\t$579.99\n",
      "\tMonitor\t\t\t$124.89\n",
      "==================================================\n",
      "\t\t\t\tTotal\n",
      "\t\t\t\t$754.83\n",
      "==================================================\n",
      "\n",
      "\tThanks for shopping with us today!\n",
      "\n",
      "**************************************************\n"
     ]
    }
   ],
   "source": [
    "# to print the top border\n",
    "\n",
    "print(\"*\" * 50)\n",
    "\n",
    "# to create the address of the company\n",
    "comp_name=\"coding temple, inc.\"\n",
    "comp_addr=\"283 Franklin St.\"\n",
    "comp_city=\"Boston, MA\"\n",
    "print(\"\\t\\t{}\".format(comp_name.title()))\n",
    "print(\"\\t\\t{}\".format(comp_addr))\n",
    "print(\"\\t\\t{}\".format(comp_city))\n",
    "\n",
    "# to print the border before the products\n",
    "print(\"=\" * 50)\n",
    "\n",
    "# to create products and their prices\n",
    "p1_name, p1_price=\"books\", 49.95\n",
    "p2_name, p2_price=\"computer\", 579.99\n",
    "p3_name, p3_price=\"monitor\", 124.89\n",
    "print(\"\\tProduct Name\\t\\tProduct Price\")\n",
    "print(\"\\t{}\\t\\t\\t${}\".format(p1_name.title(), p1_price))\n",
    "print(\"\\t{}\\t\\t${}\".format(p2_name.title(), p2_price))\n",
    "print(\"\\t{}\\t\\t\\t${}\".format(p3_name.title(), p3_price))\n",
    "\n",
    "# to print border before Total\n",
    "print(\"=\" * 50)\n",
    "\n",
    "#to print Total\n",
    "print(\"\\t\\t\\t\\tTotal\")\n",
    "result=p1_price + p2_price + p3_price\n",
    "print(f\"\\t\\t\\t\\t${result}\")\n",
    "\n",
    "# to print border before the message\n",
    "print(\"=\" * 50)\n",
    "\n",
    "# to print message\n",
    "msg=\"Thanks for shopping with us today!\"\n",
    "print(\"\\n\\t{}\\n\".format(msg))\n",
    "\n",
    "#to print the bottom border\n",
    "print(\"*\" * 50)"
   ]
  }
 ],
 "metadata": {
  "kernelspec": {
   "display_name": "Python 3",
   "language": "python",
   "name": "python3"
  },
  "language_info": {
   "codemirror_mode": {
    "name": "ipython",
    "version": 3
   },
   "file_extension": ".py",
   "mimetype": "text/x-python",
   "name": "python",
   "nbconvert_exporter": "python",
   "pygments_lexer": "ipython3",
   "version": "3.8.3"
  }
 },
 "nbformat": 4,
 "nbformat_minor": 4
}
