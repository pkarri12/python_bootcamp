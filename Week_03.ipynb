{
 "cells": [
  {
   "cell_type": "markdown",
   "metadata": {},
   "source": [
    "# User Input & Type Converting"
   ]
  },
  {
   "cell_type": "code",
   "execution_count": 1,
   "metadata": {},
   "outputs": [
    {
     "name": "stdout",
     "output_type": "stream",
     "text": [
      "What is your name?yaml\n",
      "yaml\n"
     ]
    }
   ],
   "source": [
    "# accepting and outputting user input\n",
    "print(input(\"What is your name?\"))"
   ]
  },
  {
   "cell_type": "code",
   "execution_count": 2,
   "metadata": {},
   "outputs": [
    {
     "name": "stdout",
     "output_type": "stream",
     "text": [
      "What is your name?yaml\n",
      "Hello yaml!\n"
     ]
    }
   ],
   "source": [
    "# saving what the user inputs\n",
    "ans=input(\"What is your name?\")\n",
    "print(\"Hello {}!\".format(ans))"
   ]
  },
  {
   "cell_type": "code",
   "execution_count": 3,
   "metadata": {},
   "outputs": [
    {
     "name": "stdout",
     "output_type": "stream",
     "text": [
      "<class 'str'>\n",
      "<class 'int'>\n"
     ]
    }
   ],
   "source": [
    "# how to check the data type of a variable\n",
    "print(type(ans))\n",
    "num=5\n",
    "print(type(num))"
   ]
  },
  {
   "cell_type": "code",
   "execution_count": 5,
   "metadata": {},
   "outputs": [
    {
     "name": "stdout",
     "output_type": "stream",
     "text": [
      "<class 'str'>\n",
      "<class 'int'>\n"
     ]
    }
   ],
   "source": [
    "# converting a variable from one data type to another\n",
    "num=\"9\"\n",
    "print(type(num))\n",
    "num=int(num)   # re-declaring num to store an integer\n",
    "print(type(num))  # checking type to make sure conversion worked"
   ]
  },
  {
   "cell_type": "code",
   "execution_count": 8,
   "metadata": {},
   "outputs": [
    {
     "name": "stdout",
     "output_type": "stream",
     "text": [
      "Type a number to add:10\n",
      "<class 'str'>\n",
      "100 + 10 = 110\n"
     ]
    }
   ],
   "source": [
    "# converting data types\n",
    "# integer 9 to string \"9\" = str(9)\n",
    "# integer 5 to float 5.0 = float(5)\n",
    "# float 5.6 to integer 5 = int(5.6)\n",
    "# string \"9\" to integer 9 = int(\"9\")\n",
    "# string \"True\" to boolean True = bool(\"True\")\n",
    "# boolean True to integer 1 = int(True)\n",
    "\n",
    "# working with user input to perform calculations\n",
    "\n",
    "ans=input(\"Type a number to add:\")\n",
    "print(type(ans))  # default type is string, must convert into integer\n",
    "result=100 + int(ans)\n",
    "print(\"100 + {} = {}\".format(ans, result))"
   ]
  },
  {
   "cell_type": "code",
   "execution_count": 13,
   "metadata": {},
   "outputs": [
    {
     "name": "stdout",
     "output_type": "stream",
     "text": [
      "Type a number to add:5\n",
      "100 + 5.0 = 105.0\n",
      "The program did not break!\n"
     ]
    }
   ],
   "source": [
    "# using the try and except blocks, use tab to indent where necessary\n",
    "\n",
    "try:\n",
    "        ans=float(input(\"Type a number to add:\"))\n",
    "        print(\"100 + {} = {}\".format(ans, 100 + ans))\n",
    "except:\n",
    "        print(\"You did not enter a valid number!\")\n",
    "        \n",
    "# without try/except print statement would not get hit if error occurs\n",
    "\n",
    "print(\"The program did not break!\")"
   ]
  },
  {
   "cell_type": "markdown",
   "metadata": {},
   "source": [
    "### Monday Exercises"
   ]
  },
  {
   "cell_type": "code",
   "execution_count": 15,
   "metadata": {
    "scrolled": true
   },
   "outputs": [
    {
     "name": "stdout",
     "output_type": "stream",
     "text": [
      "<class 'bool'>\n"
     ]
    }
   ],
   "source": [
    "# converting a string of \"True\" to boolean and checking using type\n",
    "\n",
    "word=\"True\"\n",
    "print(type(bool(word)))"
   ]
  },
  {
   "cell_type": "code",
   "execution_count": 4,
   "metadata": {},
   "outputs": [
    {
     "name": "stdout",
     "output_type": "stream",
     "text": [
      "Type first number:4.5\n",
      "Type second number:5.5\n",
      "The sum of 4.5 and 5.5 is 10.0!\n"
     ]
    }
   ],
   "source": [
    "# sum of inputs\n",
    "\n",
    "try:\n",
    "        ans1=float(input(\"Type first number:\"))\n",
    "        ans2=float(input(\"Type second number:\"))\n",
    "        print(\"The sum of {} and {} is {}!\".format(ans1, ans2, ans1 + ans2))\n",
    "except:\n",
    "        print(\"You haven't entered a valid number!\")"
   ]
  },
  {
   "cell_type": "code",
   "execution_count": 5,
   "metadata": {},
   "outputs": [
    {
     "name": "stdout",
     "output_type": "stream",
     "text": [
      "Please enter your car model:x1\n",
      "Please enter your car make:bmw\n",
      "Please enter your car year:2005\n",
      "Please enter your car color:black\n",
      "2005 Black Bmw X1\n"
     ]
    }
   ],
   "source": [
    "# car information\n",
    "\n",
    "try:\n",
    "        ans1=input(\"Please enter your car model:\")\n",
    "        ans2=input(\"Please enter your car make:\")\n",
    "        ans3=int(input(\"Please enter your car year:\"))\n",
    "        ans4=input(\"Please enter your car color:\")\n",
    "        print(\"{} {} {} {}\".format(ans3, ans4.title(), ans2.title(), ans1.title() ))\n",
    "except:\n",
    "        print(\"Please enter valid data!\")"
   ]
  },
  {
   "cell_type": "markdown",
   "metadata": {},
   "source": [
    "##### If Statements"
   ]
  },
  {
   "cell_type": "code",
   "execution_count": 6,
   "metadata": {},
   "outputs": [
    {
     "name": "stdout",
     "output_type": "stream",
     "text": [
      "x is less than y\n"
     ]
    }
   ],
   "source": [
    "# using an if statement to only run code if the condition is met\n",
    "\n",
    "x, y=5, 10\n",
    "if x < y:\n",
    "      print(\"x is less than y\")"
   ]
  },
  {
   "cell_type": "code",
   "execution_count": 7,
   "metadata": {},
   "outputs": [],
   "source": [
    "# comparison operators\n",
    "\n",
    "# x == y, x != y, x >= y, x <= y, x > y, x < y"
   ]
  },
  {
   "cell_type": "code",
   "execution_count": 11,
   "metadata": {},
   "outputs": [
    {
     "name": "stdout",
     "output_type": "stream",
     "text": [
      "What is 5 + 5? :10\n",
      "You got it right!\n"
     ]
    }
   ],
   "source": [
    "# checking user input\n",
    "\n",
    "ans=int(input(\"What is 5 + 5? :\"))\n",
    "if ans == 10:\n",
    "         print(\"You got it right!\")"
   ]
  },
  {
   "cell_type": "code",
   "execution_count": 12,
   "metadata": {},
   "outputs": [
    {
     "name": "stdout",
     "output_type": "stream",
     "text": [
      "Both statements were true!\n"
     ]
    }
   ],
   "source": [
    "# logical operator \"and\"\n",
    "\n",
    "x, y, z=5, 10, 5\n",
    "if x < y and x == z:\n",
    "            print(\"Both statements were true!\")"
   ]
  },
  {
   "cell_type": "code",
   "execution_count": 13,
   "metadata": {},
   "outputs": [
    {
     "name": "stdout",
     "output_type": "stream",
     "text": [
      "One or both statements were true!\n"
     ]
    }
   ],
   "source": [
    "# logical operator \"or\"\n",
    "\n",
    "x, y, z=5, 10, 5\n",
    "if x < y or x != z:\n",
    "            print(\"One or both statements were true!\")"
   ]
  },
  {
   "cell_type": "code",
   "execution_count": 14,
   "metadata": {},
   "outputs": [
    {
     "name": "stdout",
     "output_type": "stream",
     "text": [
      "Flag is False!\n"
     ]
    }
   ],
   "source": [
    "# logical operator \"not\"\n",
    "\n",
    "flag=False\n",
    "if not flag:     # same as saying if not true or if flag == False\n",
    "        print(\"Flag is False!\")"
   ]
  },
  {
   "cell_type": "code",
   "execution_count": 15,
   "metadata": {},
   "outputs": [
    {
     "name": "stdout",
     "output_type": "stream",
     "text": [
      "Baseball contains the character b.\n"
     ]
    }
   ],
   "source": [
    "# membership operator \"in\"\n",
    "\n",
    "word=\"Baseball\"\n",
    "if 'b' in word:\n",
    "            print(\"{} contains the character b.\".format(word))"
   ]
  },
  {
   "cell_type": "code",
   "execution_count": 16,
   "metadata": {},
   "outputs": [
    {
     "name": "stdout",
     "output_type": "stream",
     "text": [
      "Baseball does not contain the character x.\n"
     ]
    }
   ],
   "source": [
    "# membership operator \"not in\"\n",
    "\n",
    "word=\"Baseball\"\n",
    "if 'x' not in word:\n",
    "                print(\"{} does not contain the character x.\".format(word))"
   ]
  },
  {
   "cell_type": "markdown",
   "metadata": {},
   "source": [
    "##### Tuesday Exercises"
   ]
  },
  {
   "cell_type": "code",
   "execution_count": 22,
   "metadata": {},
   "outputs": [
    {
     "name": "stdout",
     "output_type": "stream",
     "text": [
      "Please enter any word:goes\n",
      "Goes contains the characters 'es'.\n"
     ]
    }
   ],
   "source": [
    "# checking inclusion- part-1\n",
    "\n",
    "ans=input(\"Please enter any word:\")\n",
    "if 'es' in ans:\n",
    "            print(\"{} contains the characters 'es'.\".format(ans.title()))\n",
    "        \n",
    "else:\n",
    "            print(\"{} does not contain the characters 'es'.\".format(ans.title()))"
   ]
  },
  {
   "cell_type": "code",
   "execution_count": 4,
   "metadata": {
    "scrolled": true
   },
   "outputs": [
    {
     "name": "stdout",
     "output_type": "stream",
     "text": [
      "Please type any word:swimming\n",
      "Swimming does end with 'ing'.\n"
     ]
    }
   ],
   "source": [
    "# checking inclusion- part-2\n",
    "\n",
    "ans=input(\"Please type any word:\")\n",
    "if ans[-3:] == 'ing':\n",
    "            print(\"{} does end with 'ing'.\".format(ans.title()))"
   ]
  },
  {
   "cell_type": "code",
   "execution_count": 5,
   "metadata": {},
   "outputs": [
    {
     "name": "stdout",
     "output_type": "stream",
     "text": [
      "Please enter your first word:yes\n",
      "Please enter your second word:YES\n",
      "You have entered the same words!\n"
     ]
    }
   ],
   "source": [
    "# checking equality\n",
    "\n",
    "ans1=input(\"Please enter your first word:\")\n",
    "ans2=input(\"Please enter your second word:\")\n",
    "if ans1.lower() == ans2.lower():\n",
    "            print(\"You have entered the same words!\")"
   ]
  },
  {
   "cell_type": "code",
   "execution_count": 9,
   "metadata": {},
   "outputs": [
    {
     "name": "stdout",
     "output_type": "stream",
     "text": [
      "Please enter a number:9\n",
      "The square of 9 is 81!\n"
     ]
    }
   ],
   "source": [
    "# returning exponents\n",
    "\n",
    "ans=int(input(\"Please enter a number:\"))\n",
    "if ans < 10:\n",
    "        print(\"The square of {} is {}!\".format(ans, ans * ans))"
   ]
  },
  {
   "cell_type": "markdown",
   "metadata": {},
   "source": [
    "##### ELIF Statements"
   ]
  },
  {
   "cell_type": "code",
   "execution_count": 10,
   "metadata": {},
   "outputs": [
    {
     "name": "stdout",
     "output_type": "stream",
     "text": [
      "x is smaller\n"
     ]
    }
   ],
   "source": [
    "# using the elif conditional statement\n",
    "\n",
    "x, y=5, 10\n",
    "if x > y:\n",
    "      print(\"x is greater\")\n",
    "elif x < y:\n",
    "      print(\"x is smaller\")"
   ]
  },
  {
   "cell_type": "code",
   "execution_count": 11,
   "metadata": {},
   "outputs": [
    {
     "name": "stdout",
     "output_type": "stream",
     "text": [
      "equal\n"
     ]
    }
   ],
   "source": [
    "# checking multiple elif conditional statements (code will only run for the one that checks out right and the rest ignored)\n",
    "\n",
    "x, y=5, 10\n",
    "if x > y:\n",
    "      print(\"x is greater\")\n",
    "elif (x+10) < y:      # checking if 15 is less than 10\n",
    "      print(\"x is smaller\")\n",
    "elif (x+5) == y:      # checking if 10 is equal to 10\n",
    "      print(\"equal\")"
   ]
  },
  {
   "cell_type": "code",
   "execution_count": 12,
   "metadata": {},
   "outputs": [
    {
     "name": "stdout",
     "output_type": "stream",
     "text": [
      "x is equal to z\n"
     ]
    }
   ],
   "source": [
    "# writing multiple conditionals within each other - multiple block levels\n",
    "\n",
    "x, y, z=5, 10, 5\n",
    "if x > y:\n",
    "        print(\"greater\")\n",
    "elif x <= y:\n",
    "        if x == z:\n",
    "                print(\"x is equal to z\")   # resulting output\n",
    "        elif x != z:\n",
    "                print(\"x is not equal to z\")   # won't get hit"
   ]
  },
  {
   "cell_type": "code",
   "execution_count": 13,
   "metadata": {},
   "outputs": [
    {
     "name": "stdout",
     "output_type": "stream",
     "text": [
      "x is smaller\n",
      "x is equal\n"
     ]
    }
   ],
   "source": [
    "# testing output of two if statements in a row that are both true\n",
    "\n",
    "x, y, z=5, 10, 5\n",
    "if x < y:\n",
    "        print(\"x is smaller\")\n",
    "if x == z:\n",
    "        print(\"x is equal\")"
   ]
  },
  {
   "cell_type": "code",
   "execution_count": 14,
   "metadata": {},
   "outputs": [
    {
     "name": "stdout",
     "output_type": "stream",
     "text": [
      "x is smaller\n"
     ]
    }
   ],
   "source": [
    "# testing output of an if and elif statement that are both true\n",
    "\n",
    "x, y, z=5, 10, 15\n",
    "if x < y:\n",
    "        print(\"x is smaller\")\n",
    "elif x == z:\n",
    "        print(\"x is equal to z\")"
   ]
  },
  {
   "cell_type": "markdown",
   "metadata": {},
   "source": [
    "##### Wednesday Exercises"
   ]
  },
  {
   "cell_type": "code",
   "execution_count": 16,
   "metadata": {},
   "outputs": [
    {
     "name": "stdout",
     "output_type": "stream",
     "text": [
      "please enter a number:500\n",
      "500 is greater than 100.\n"
     ]
    }
   ],
   "source": [
    "# higher/lower\n",
    "\n",
    "num=int(input(\"please enter a number:\"))\n",
    "if num > 100:\n",
    "        print(\"{} is greater than 100.\".format(num))\n",
    "elif num < 100:\n",
    "        print(\"{} is less than 100.\".format(num))"
   ]
  },
  {
   "cell_type": "markdown",
   "metadata": {},
   "source": [
    "##### Else Statements"
   ]
  },
  {
   "cell_type": "code",
   "execution_count": 17,
   "metadata": {},
   "outputs": [
    {
     "name": "stdout",
     "output_type": "stream",
     "text": [
      "Hello John!\n"
     ]
    }
   ],
   "source": [
    "# using an else statement\n",
    "\n",
    "name=\"John\"\n",
    "if name == \"Jacob\":\n",
    "        print(\"Hello Jacob!\")\n",
    "else:\n",
    "        print(\"Hello {}!\".format(name))"
   ]
  },
  {
   "cell_type": "code",
   "execution_count": 18,
   "metadata": {},
   "outputs": [
    {
     "name": "stdout",
     "output_type": "stream",
     "text": [
      "Name starts with a J\n"
     ]
    }
   ],
   "source": [
    "# writing a complete/full conditional statement with if, elif and else\n",
    "\n",
    "name=\"John\"\n",
    "if name[0] == 'A':\n",
    "        print(\"Name starts with an A\")\n",
    "elif name[0] == 'B':\n",
    "        print(\"Name starts with a B\")\n",
    "elif name[0] == 'J':\n",
    "        print(\"Name starts with a J\")\n",
    "else:\n",
    "    # covers all other possibilities\n",
    "        print(\"Name starts with a {}\".format(name[0]))"
   ]
  },
  {
   "cell_type": "markdown",
   "metadata": {},
   "source": [
    "##### Thursday Exercises"
   ]
  },
  {
   "cell_type": "code",
   "execution_count": 26,
   "metadata": {},
   "outputs": [
    {
     "name": "stdout",
     "output_type": "stream",
     "text": [
      "please enter the time of day in military time like 1100 for 11:00 AM:2400\n",
      "Good Evening\n"
     ]
    }
   ],
   "source": [
    "# user input to enter the time of the day in military time to greet\n",
    "\n",
    "usip=int(input(\"please enter the time of day in military time like 1100 for 11:00 AM:\"))\n",
    "if usip < 1200:\n",
    "        print(\"Good Morning\")\n",
    "elif usip >= 1200 and usip < 1700:\n",
    "        print(\"Good Afternoon\")\n",
    "elif usip >= 1700:\n",
    "        print(\"Good Evening\")"
   ]
  },
  {
   "cell_type": "markdown",
   "metadata": {},
   "source": [
    "### Friday Project: Creating a Calculator"
   ]
  },
  {
   "cell_type": "code",
   "execution_count": 13,
   "metadata": {},
   "outputs": [
    {
     "name": "stdout",
     "output_type": "stream",
     "text": [
      "What operation would you like to perform add or subtract or multiply or divide? divide\n",
      "You have selected the divide operation.\n",
      "The order of the numbers does matter in this operation\n",
      "please enter your first number: 10\n",
      "please enter your second number: 100\n",
      "Your first number is 10.0\n",
      "Your second number is 100.0\n",
      "The division of 10.0 and 100.0 = 0.1\n"
     ]
    }
   ],
   "source": [
    "# Design\n",
    "# step1- ask user input on what operation they want to perform\n",
    "# step2- ask user input on the numbers\n",
    "# step3- use try/except block to print error when hit exception\n",
    "\n",
    "# step1- to ask user input about the operation and alert them\n",
    "try:    \n",
    "    operation=input(\"What operation would you like to perform add or subtract or multiply or divide? \").lower()\n",
    "    if operation == \"subtract\" or operation == \"divide\":\n",
    "                print(\"You have selected the {} operation.\".format(operation))\n",
    "                print(\"The order of the numbers does matter in this operation\") \n",
    "                      \n",
    "# step2- to ask for number input and convert type to float\n",
    "\n",
    "    num1=float(input(\"please enter your first number: \"))\n",
    "    num2=float(input(\"please enter your second number: \"))\n",
    "    print(\"Your first number is {}\".format(num1))\n",
    "    print(\"Your second number is {}\".format(num2))\n",
    "                      \n",
    "# step3- to perform code of block using try/except\n",
    "    if operation == \"sum\":\n",
    "                print(\"The sum of {} and {} = {}\".format(num1, num2, num1 + num2))\n",
    "    elif operation == \"subtract\":\n",
    "                print(\"The difference of {} and {} = {}\".format(num1, num2, num1 - num2))\n",
    "    elif operation == \"multiply\":\n",
    "                print(\"The multiplication of {} and {} = {}\".format(num1, num2, num1 * num2))\n",
    "    elif operation == \"divide\":\n",
    "                print(\"The division of {} and {} = {}\".format(num1, num2, num1 / num2))\n",
    "    else:\n",
    "                print(\"You have entered an invalid operation {}! Please try again.\".format(operation))\n",
    "except:\n",
    "                print(\"You have entered incorrect numbers !Please try again.\")"
   ]
  },
  {
   "cell_type": "code",
   "execution_count": null,
   "metadata": {},
   "outputs": [],
   "source": []
  }
 ],
 "metadata": {
  "kernelspec": {
   "display_name": "Python 3",
   "language": "python",
   "name": "python3"
  },
  "language_info": {
   "codemirror_mode": {
    "name": "ipython",
    "version": 3
   },
   "file_extension": ".py",
   "mimetype": "text/x-python",
   "name": "python",
   "nbconvert_exporter": "python",
   "pygments_lexer": "ipython3",
   "version": "3.8.3"
  }
 },
 "nbformat": 4,
 "nbformat_minor": 4
}
