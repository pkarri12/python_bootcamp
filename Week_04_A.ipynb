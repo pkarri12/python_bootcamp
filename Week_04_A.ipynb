{
 "cells": [
  {
   "cell_type": "markdown",
   "metadata": {},
   "source": [
    "# Lists and Loops"
   ]
  },
  {
   "cell_type": "code",
   "execution_count": 1,
   "metadata": {},
   "outputs": [
    {
     "name": "stdout",
     "output_type": "stream",
     "text": [
      "[5, 10, 10.5, 25]\n"
     ]
    }
   ],
   "source": [
    "# declaring a list of numbers\n",
    "\n",
    "nums=[5, 10, 10.5, 25]\n",
    "\n",
    "print(nums)"
   ]
  },
  {
   "cell_type": "code",
   "execution_count": 2,
   "metadata": {},
   "outputs": [
    {
     "name": "stdout",
     "output_type": "stream",
     "text": [
      "10.5\n",
      "25\n"
     ]
    }
   ],
   "source": [
    "# accessing elements withtin a list\n",
    "\n",
    "print(nums[2])   # will output the value at index 2 = 10.5\n",
    "\n",
    "num=nums[3]   # saves index value 3 into the num variable\n",
    "print(num)    # prints the value assigned to num"
   ]
  },
  {
   "cell_type": "code",
   "execution_count": 3,
   "metadata": {},
   "outputs": [
    {
     "name": "stdout",
     "output_type": "stream",
     "text": [
      "[1.3, 'word', False]\n"
     ]
    }
   ],
   "source": [
    "# declaring a list of mixed data types\n",
    "\n",
    "num=1.3\n",
    "data=[num, \"word\", False]    # the power of data collection\n",
    "print(data)"
   ]
  },
  {
   "cell_type": "code",
   "execution_count": 4,
   "metadata": {},
   "outputs": [
    {
     "name": "stdout",
     "output_type": "stream",
     "text": [
      "[10, 'pen', [16, 'hola'], False]\n",
      "[16, 'hola']\n"
     ]
    }
   ],
   "source": [
    "# understanding lists within lists\n",
    "\n",
    "data=[10, \"pen\", [16, \"hola\"], False]# lists can hold any type\n",
    "print(data)\n",
    "print(data[2])"
   ]
  },
  {
   "cell_type": "code",
   "execution_count": 8,
   "metadata": {},
   "outputs": [
    {
     "name": "stdout",
     "output_type": "stream",
     "text": [
      "hola\n",
      "16\n",
      "n\n"
     ]
    }
   ],
   "source": [
    "# using double bracket notation to access lists within lists\n",
    "\n",
    "print(data[2][1])    # will output 'hola' \n",
    "inner_list=data[2]   # inner_list will equal [16, \"hola\"]\n",
    "print(inner_list[0]) # will output 16\n",
    "print(data[1][2])    # will output 'n' in pen"
   ]
  },
  {
   "cell_type": "code",
   "execution_count": 9,
   "metadata": {},
   "outputs": [
    {
     "name": "stdout",
     "output_type": "stream",
     "text": [
      "[4, 8, 12, 16, 20]\n",
      "[111, 8, 12, 16, 20]\n"
     ]
    }
   ],
   "source": [
    "# changing values in a list through index\n",
    "\n",
    "num=[4, 8, 12, 16, 20]\n",
    "print(num)\n",
    "num[0]=111 # changing the value at index 0 from 4 to 111\n",
    "print(num)"
   ]
  },
  {
   "cell_type": "code",
   "execution_count": 10,
   "metadata": {},
   "outputs": [
    {
     "name": "stdout",
     "output_type": "stream",
     "text": [
      "2376935438016\n"
     ]
    }
   ],
   "source": [
    "# variable storage\n",
    "\n",
    "i=[4, 8]\n",
    "print(id(i)) # large number represents location in memory"
   ]
  },
  {
   "cell_type": "code",
   "execution_count": 11,
   "metadata": {},
   "outputs": [
    {
     "name": "stdout",
     "output_type": "stream",
     "text": [
      "a: [6, 12]\t c: [6, 12]\n",
      "Location a[0]: 140716195788736\t Location c[0]: 140716195788736\n",
      "a: [8, 12]\t c: [8, 12]\n"
     ]
    }
   ],
   "source": [
    "# understanding how lists are stored\n",
    "\n",
    "a=[6, 12]\n",
    "c=a\n",
    "print(\"a: {}\\t c: {}\".format(a, c))\n",
    "print(\"Location a[0]: {}\\t Location c[0]: {}\".format(id(a[0]), id(c[0])))\n",
    "a[0]=8   # re-declaring the value of a[0] also changes c[0]\n",
    "print(\"a: {}\\t c: {}\".format(a, c))"
   ]
  },
  {
   "cell_type": "code",
   "execution_count": 13,
   "metadata": {},
   "outputs": [
    {
     "name": "stdout",
     "output_type": "stream",
     "text": [
      "data: [71, 8, 12, 16]\t data_copy: [4, 8, 12, 16]\n"
     ]
    }
   ],
   "source": [
    "# copying a list using [:] will always keep the original list intact\n",
    "\n",
    "data=[4, 8, 12, 16]\n",
    "data_copy=data[:]  # a single colon copies the list\n",
    "data[0]=71\n",
    "print(\"data: {}\\t data_copy: {}\".format(data, data_copy))"
   ]
  },
  {
   "cell_type": "markdown",
   "metadata": {},
   "source": [
    "##### Monday Exercises"
   ]
  },
  {
   "cell_type": "code",
   "execution_count": 17,
   "metadata": {},
   "outputs": [
    {
     "name": "stdout",
     "output_type": "stream",
     "text": [
      "I like to play baseball.\n",
      "I like to play cricket.\n",
      "I like to play football.\n",
      "I like to play basketball.\n"
     ]
    }
   ],
   "source": [
    "# sports:\n",
    "\n",
    "sports=[\"baseball\", \"cricket\", \"football\", \"basketball\"]\n",
    "print(\"I like to play {}.\".format(sports[0]))\n",
    "print(\"I like to play {}.\".format(sports[1]))\n",
    "print(\"I like to play {}.\".format(sports[2]))\n",
    "print(\"I like to play {}.\".format(sports[3]))"
   ]
  },
  {
   "cell_type": "code",
   "execution_count": 26,
   "metadata": {},
   "outputs": [
    {
     "name": "stdout",
     "output_type": "stream",
     "text": [
      "J\n",
      "A\n",
      "S\n",
      "K\n"
     ]
    }
   ],
   "source": [
    "# first character - output should be 'J','A','S','K'\n",
    "\n",
    "names=[\"James\", \"Andy\", \"Sara\", \"Kim\"]\n",
    "print(names[0][0])\n",
    "print(names[1][0]) \n",
    "print(names[2][0])\n",
    "print(names[3][0])"
   ]
  },
  {
   "cell_type": "markdown",
   "metadata": {},
   "source": [
    "### For Loops"
   ]
  },
  {
   "cell_type": "code",
   "execution_count": 27,
   "metadata": {},
   "outputs": [
    {
     "name": "stdout",
     "output_type": "stream",
     "text": [
      "Value: 0\n",
      "Value: 1\n",
      "Value: 2\n",
      "Value: 3\n"
     ]
    }
   ],
   "source": [
    "# writing first for loop using range\n",
    "\n",
    "for num in range(4):\n",
    "            print(\"Value: {}\".format(num))"
   ]
  },
  {
   "cell_type": "code",
   "execution_count": 28,
   "metadata": {},
   "outputs": [
    {
     "name": "stdout",
     "output_type": "stream",
     "text": [
      "Value: 3\n",
      "Value: 6\n",
      "Value: 9\n",
      "Value: 12\n"
     ]
    }
   ],
   "source": [
    "# providing the start, stop and increment for the range function\n",
    "\n",
    "for num in range(3, 15, 3):\n",
    "            print(\"Value: {}\".format(num))  # will print all multiples of 3 between 3 and 15\n",
    "        "
   ]
  },
  {
   "cell_type": "code",
   "execution_count": 29,
   "metadata": {},
   "outputs": [
    {
     "name": "stdout",
     "output_type": "stream",
     "text": [
      "Value: J\n",
      "Value: o\n",
      "Value: h\n",
      "Value: n\n",
      "Value:  \n",
      "Value: S\n",
      "Value: m\n",
      "Value: i\n",
      "Value: t\n",
      "Value: h\n"
     ]
    }
   ],
   "source": [
    "# looping by element\n",
    "# printing all characters in a name using the \"in\" keyword\n",
    "\n",
    "name=\"John Smith\"\n",
    "for letter in name:\n",
    "        print(\"Value: {}\".format(letter))"
   ]
  },
  {
   "cell_type": "code",
   "execution_count": 31,
   "metadata": {},
   "outputs": [
    {
     "name": "stdout",
     "output_type": "stream",
     "text": [
      "0\n",
      "1\n",
      "2\n",
      "4\n"
     ]
    }
   ],
   "source": [
    "# continue statament within a for loop\n",
    "\n",
    "for num in range(5):\n",
    "    if num == 3:\n",
    "            continue\n",
    "    print(num)"
   ]
  },
  {
   "cell_type": "code",
   "execution_count": 32,
   "metadata": {},
   "outputs": [
    {
     "name": "stdout",
     "output_type": "stream",
     "text": [
      "0\n",
      "1\n",
      "2\n"
     ]
    }
   ],
   "source": [
    "# break statement within a for loop to break out of the loop\n",
    "\n",
    "for num in range(5):\n",
    "    if num == 3:\n",
    "            break\n",
    "    print(num)"
   ]
  },
  {
   "cell_type": "code",
   "execution_count": 33,
   "metadata": {},
   "outputs": [],
   "source": [
    "# pass statement within a for loop to set a placeholder\n",
    "\n",
    "for num in range(5):\n",
    "    # TODO: need to add the code to print num\n",
    "    pass"
   ]
  },
  {
   "cell_type": "markdown",
   "metadata": {},
   "source": [
    "##### Tuesday Exercises"
   ]
  },
  {
   "cell_type": "code",
   "execution_count": 51,
   "metadata": {
    "scrolled": true
   },
   "outputs": [
    {
     "name": "stdout",
     "output_type": "stream",
     "text": [
      "3\n",
      "6\n",
      "9\n",
      "12\n",
      "15\n",
      "18\n",
      "21\n",
      "24\n",
      "27\n",
      "30\n",
      "33\n",
      "36\n",
      "39\n",
      "42\n",
      "45\n",
      "48\n",
      "51\n",
      "54\n",
      "57\n",
      "60\n",
      "63\n",
      "66\n",
      "69\n",
      "72\n",
      "75\n",
      "78\n",
      "81\n",
      "84\n",
      "87\n",
      "90\n",
      "93\n",
      "96\n",
      "99\n"
     ]
    }
   ],
   "source": [
    "# divisible by three using for loop for numbers 1 to 100\n",
    "\n",
    "for num in range(1, 100):\n",
    "         if num % 3 == 0:\n",
    "                print(num)"
   ]
  },
  {
   "cell_type": "code",
   "execution_count": 57,
   "metadata": {
    "scrolled": true
   },
   "outputs": [
    {
     "name": "stdout",
     "output_type": "stream",
     "text": [
      "Please enter a word: neither\n",
      "e\n",
      "i\n",
      "e\n"
     ]
    }
   ],
   "source": [
    "# only vowels\n",
    "vowels=[\"a\", \"e\", \"i\", \"o\", \"u\"]\n",
    "word=input(\"Please enter a word: \").lower()\n",
    "for letter in word:\n",
    "         if letter in vowels:\n",
    "                print(letter)"
   ]
  },
  {
   "cell_type": "markdown",
   "metadata": {},
   "source": [
    "##### While Loops"
   ]
  },
  {
   "cell_type": "code",
   "execution_count": 58,
   "metadata": {},
   "outputs": [
    {
     "name": "stdout",
     "output_type": "stream",
     "text": [
      "10\n",
      "9\n",
      "8\n",
      "7\n",
      "6\n",
      "5\n",
      "4\n",
      "3\n",
      "2\n",
      "1\n"
     ]
    }
   ],
   "source": [
    "# writing first while loop\n",
    "\n",
    "health=10\n",
    "while health > 0:\n",
    "    print(health)\n",
    "    health -= 1  # forgetting this line will result in infinite loop"
   ]
  },
  {
   "cell_type": "code",
   "execution_count": 60,
   "metadata": {},
   "outputs": [],
   "source": [
    "# infinite loops\n",
    "\n",
    "game_over=False\n",
    "#while not game_over:  # which is saying while game_over = False\n",
    "#        print(game_over)"
   ]
  },
  {
   "cell_type": "code",
   "execution_count": 61,
   "metadata": {},
   "outputs": [
    {
     "name": "stdout",
     "output_type": "stream",
     "text": [
      "0 0\n",
      "0 1\n",
      "0 2\n",
      "1 0\n",
      "1 1\n",
      "1 2\n"
     ]
    }
   ],
   "source": [
    "# nested loops\n",
    "\n",
    "for i in range(2):      # outside loop\n",
    "    for j in range(3):  # inside loop\n",
    "        print(i, j)\n"
   ]
  },
  {
   "cell_type": "markdown",
   "metadata": {},
   "source": [
    "##### Wednesday Exercises"
   ]
  },
  {
   "cell_type": "code",
   "execution_count": 2,
   "metadata": {
    "scrolled": true
   },
   "outputs": [
    {
     "name": "stdout",
     "output_type": "stream",
     "text": [
      "Enter something: yes\n",
      "Enter something: ok\n",
      "Enter something: why not\n",
      "Enter something: quit\n"
     ]
    }
   ],
   "source": [
    "# user input\n",
    "\n",
    "while input(\"Enter something: \").lower() != \"quit\":\n",
    "        continue\n",
    "\n",
    "    "
   ]
  },
  {
   "cell_type": "code",
   "execution_count": 7,
   "metadata": {},
   "outputs": [
    {
     "name": "stdout",
     "output_type": "stream",
     "text": [
      "0\n",
      "1\n",
      "2\n"
     ]
    }
   ],
   "source": [
    "# double loop\n",
    "game_over=False\n",
    "while not game_over:\n",
    "    for count in range(5):\n",
    "        if count == 3:\n",
    "            game_over = True\n",
    "            break\n",
    "        else:\n",
    "            print(count)"
   ]
  },
  {
   "cell_type": "markdown",
   "metadata": {},
   "source": [
    "##### Working with Lists"
   ]
  },
  {
   "cell_type": "code",
   "execution_count": 9,
   "metadata": {},
   "outputs": [
    {
     "name": "stdout",
     "output_type": "stream",
     "text": [
      "3\n",
      "3\n"
     ]
    }
   ],
   "source": [
    "# checking length = number of items within a list\n",
    "\n",
    "nums=[4, 8, 12]\n",
    "print(len(nums))\n",
    "length=len(nums)\n",
    "print(length)"
   ]
  },
  {
   "cell_type": "code",
   "execution_count": 10,
   "metadata": {},
   "outputs": [
    {
     "name": "stdout",
     "output_type": "stream",
     "text": [
      "[8, 12]\n",
      "[4, 8]\n",
      "[4, 12]\n",
      "[8, 12]\n"
     ]
    }
   ],
   "source": [
    "# slicing lists [start:stop:increment]\n",
    "\n",
    "print(nums[1:3])  # will output items in index 1 and 2\n",
    "print(nums[:2])   # will output items in index 0 and 1\n",
    "print(nums[::2])  # will print every other index 0, 2, 4, etc.\n",
    "print(nums[-2:])  # will output the last two items in list"
   ]
  },
  {
   "cell_type": "code",
   "execution_count": 4,
   "metadata": {
    "scrolled": true
   },
   "outputs": [
    {
     "name": "stdout",
     "output_type": "stream",
     "text": [
      "[1, 5, 6, 11]\n",
      "['hello', 'cute', 'kitty']\n"
     ]
    }
   ],
   "source": [
    "# adding items\n",
    "# .append() will always add item to the back of a list\n",
    "\n",
    "nums=[1, 5, 6]\n",
    "nums.append(11)\n",
    "print(nums)     # outputs [1, 5, 6, 11]\n",
    "\n",
    "# .insert() will add items accordingly to the index\n",
    "\n",
    "words=[\"cute\", \"kitty\"]\n",
    "words.insert(0, \"hello\")  # first index followed by value\n",
    "print(words)"
   ]
  },
  {
   "cell_type": "code",
   "execution_count": 12,
   "metadata": {},
   "outputs": [
    {
     "name": "stdout",
     "output_type": "stream",
     "text": [
      "4 \t ['cute']\n"
     ]
    }
   ],
   "source": [
    "# removing items\n",
    "# .pop() will always by default removes the last item in list\n",
    "# but it can also be used to save the removed item into a variable\n",
    "\n",
    "items=[4, \"cute\", False]\n",
    "items.pop()  # by default, removes the last item = False\n",
    "removed_item=items.pop(0)  # removes 4 and saves into a var\n",
    "print(removed_item, \"\\t\", items)"
   ]
  },
  {
   "cell_type": "code",
   "execution_count": 15,
   "metadata": {},
   "outputs": [
    {
     "name": "stdout",
     "output_type": "stream",
     "text": [
      "['football', 'cricket', 'frisbee']\n"
     ]
    }
   ],
   "source": [
    "# .remove() method using try/except block\n",
    "\n",
    "sports=[\"football\", \"volleyball\", \"cricket\", \"frisbee\"]\n",
    "try:\n",
    "        sports.remove(\"volleyball\")\n",
    "except:\n",
    "        print(\"That item doesn't exist in the list\")\n",
    "print(sports)"
   ]
  },
  {
   "cell_type": "code",
   "execution_count": 16,
   "metadata": {},
   "outputs": [
    {
     "name": "stdout",
     "output_type": "stream",
     "text": [
      "5\n",
      "24\n",
      "35\n"
     ]
    }
   ],
   "source": [
    "# using min, max and sum\n",
    "\n",
    "nums=[6, 5, 24]\n",
    "print(min(nums)) # prints the lowest number in the list\n",
    "print(max(nums)) # prints the highest number in the list\n",
    "print(sum(nums)) # prints the sum of the numbers in the list"
   ]
  },
  {
   "cell_type": "code",
   "execution_count": 21,
   "metadata": {},
   "outputs": [
    {
     "name": "stdout",
     "output_type": "stream",
     "text": [
      "[4, 1, 0, 12] \t [0, 1, 4, 12]\n",
      "[2, 7, 10, 19]\n"
     ]
    }
   ],
   "source": [
    "# sorting a list\n",
    "# sorted() method which will keep the original list intact\n",
    "\n",
    "nums=[4, 1, 0, 12]\n",
    "alter=sorted(nums)  # saving to a new variable\n",
    "print(nums, \"\\t\", alter)  # original list is still intact\n",
    "\n",
    "# .sort() method changes the original list\n",
    "\n",
    "values=[10, 2, 7, 19]\n",
    "values.sort()\n",
    "print(values)"
   ]
  },
  {
   "cell_type": "code",
   "execution_count": 22,
   "metadata": {},
   "outputs": [
    {
     "name": "stdout",
     "output_type": "stream",
     "text": [
      "found\n",
      "not found\n"
     ]
    }
   ],
   "source": [
    "# using \"in\" and \"not in\" keywords in conditional statements\n",
    "\n",
    "names=[\"James\", \"Rob\", \"Lisa\", \"Linda\"]\n",
    "if \"Lisa\" in names:\n",
    "        print(\"found\")      # will print as its in the list\n",
    "if \"Rosy\" not in names:\n",
    "        print(\"not found\")  # will print as its not in the list"
   ]
  },
  {
   "cell_type": "code",
   "execution_count": 25,
   "metadata": {},
   "outputs": [
    {
     "name": "stdout",
     "output_type": "stream",
     "text": [
      "Empty\n"
     ]
    }
   ],
   "source": [
    "# checking an empty list using conditionals\n",
    "\n",
    "nums=[]\n",
    "if not nums:            # can also write as if nums == []\n",
    "        print(\"Empty\")\n",
    "if nums:                # checks for list with items\n",
    "        print(\"empty\")"
   ]
  },
  {
   "cell_type": "markdown",
   "metadata": {},
   "source": [
    "##### LOOPS and LISTS"
   ]
  },
  {
   "cell_type": "code",
   "execution_count": 26,
   "metadata": {},
   "outputs": [
    {
     "name": "stdout",
     "output_type": "stream",
     "text": [
      "baseball\n",
      "volleyball\n",
      "hockey\n",
      "cricket\n"
     ]
    }
   ],
   "source": [
    "# using for loops to print items in a list\n",
    "\n",
    "sports=[\"baseball\", \"volleyball\", \"hockey\", \"cricket\"]\n",
    "for sport in sports:\n",
    "        print(sport)"
   ]
  },
  {
   "cell_type": "code",
   "execution_count": 27,
   "metadata": {},
   "outputs": [
    {
     "name": "stdout",
     "output_type": "stream",
     "text": [
      "['James', 'Bobby', 'Robert']\n"
     ]
    }
   ],
   "source": [
    "# using while loop to remove a certain item in the list\n",
    "\n",
    "names=[\"James\", \"Jimmy\", \"Bobby\", \"Jimmy\", \"Robert\"]\n",
    "while \"Jimmy\" in names:\n",
    "        names.remove(\"Jimmy\") # removes all instances of \"Jimmy\"\n",
    "print(names)"
   ]
  }
 ],
 "metadata": {
  "kernelspec": {
   "display_name": "Python 3",
   "language": "python",
   "name": "python3"
  },
  "language_info": {
   "codemirror_mode": {
    "name": "ipython",
    "version": 3
   },
   "file_extension": ".py",
   "mimetype": "text/x-python",
   "name": "python",
   "nbconvert_exporter": "python",
   "pygments_lexer": "ipython3",
   "version": "3.8.3"
  }
 },
 "nbformat": 4,
 "nbformat_minor": 4
}
