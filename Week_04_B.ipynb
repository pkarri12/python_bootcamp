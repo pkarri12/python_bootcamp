{
 "cells": [
  {
   "cell_type": "markdown",
   "metadata": {},
   "source": [
    "##### Thursday Exercises"
   ]
  },
  {
   "cell_type": "code",
   "execution_count": 2,
   "metadata": {},
   "outputs": [
    {
     "name": "stdout",
     "output_type": "stream",
     "text": [
      "['Amanda', 'Bob', 'Kenny']\n"
     ]
    }
   ],
   "source": [
    "# remove duplicates\n",
    "names = [\"Bob\", \"Kenny\", \"Amanda\", \"Bob\", \"Kenny\"]\n",
    "for name in names:\n",
    "    while names.count(name) > 1:\n",
    "        names.remove(name)\n",
    "print(names)\n",
    "        "
   ]
  },
  {
   "cell_type": "code",
   "execution_count": 3,
   "metadata": {},
   "outputs": [
    {
     "name": "stdout",
     "output_type": "stream",
     "text": [
      "Type anything: lets\n",
      "Type anything: try\n",
      "Type anything: one\n",
      "Type anything: more\n",
      "Type anything: quit\n",
      "lets\n",
      "try\n",
      "one\n",
      "more\n"
     ]
    }
   ],
   "source": [
    "# user input\n",
    "flag=False\n",
    "usr_list=[]\n",
    "while not flag:\n",
    "        usr_input=input(\"Type anything: \").lower()\n",
    "         \n",
    "        if usr_input == \"quit\":\n",
    "                flag = True\n",
    "        else:\n",
    "                usr_list.append(usr_input)\n",
    "\n",
    "for item in usr_list:\n",
    "        print(item)"
   ]
  },
  {
   "cell_type": "markdown",
   "metadata": {},
   "source": [
    "#### Friday Project Creating Hangman"
   ]
  },
  {
   "cell_type": "code",
   "execution_count": 4,
   "metadata": {},
   "outputs": [],
   "source": [
    "# logical steps\n",
    "# 1. select a word to play with\n",
    "# 2. ask for user input\n",
    "# 3. check if user guess is correct\n",
    "#    a. if it is, show the letter in the right place\n",
    "#    b. if it isn't, lose a life\n",
    "# 4. continue steps 2 and 3 until one of the below happens:\n",
    "#    a. the user guess the word completely\n",
    "#    b. the user loses all lives"
   ]
  },
  {
   "cell_type": "code",
   "execution_count": null,
   "metadata": {},
   "outputs": [
    {
     "name": "stdout",
     "output_type": "stream",
     "text": [
      "Word to guess: _ _ _ _ \n",
      "Remaining Lives: 8 \n",
      "Guessed letters so far: []\n",
      "Guess the letters or type 'quit': quit\n"
     ]
    }
   ],
   "source": [
    "# hangman game\n",
    "# to import choice for randomly picking words\n",
    "from random import choice\n",
    "from IPython.display import clear_output\n",
    "\n",
    "#to make a list of words, and choose randomly one word\n",
    "words=[\"python\", \"table\", \"door\", \"break\", \"holiday\"]\n",
    "word=choice(words)\n",
    "# setting all variables needed for the game\n",
    "game_over=False\n",
    "guessed, lives=[], 8\n",
    "guesses=[\"_ \"] * len(word) # create a list\n",
    "\n",
    "# while loop for user input until game is not over\n",
    "while not game_over:\n",
    "    # output information about the word and lives\n",
    "    hidden_word=\"\".join(guesses)\n",
    "    print(\"Word to guess: {}\".format(hidden_word))\n",
    "    print(\"Remaining Lives: {} \".format(lives))\n",
    "    print(\"Guessed letters so far: {}\".format(guessed))\n",
    "    # to ask for user input\n",
    "    ans=input(\"Guess the letters or type 'quit': \").lower()\n",
    "    clear_output()   # to clear all previous output\n",
    "    if ans == \"quit\":\n",
    "        print(\"Thank you for playing!\")\n",
    "        game_over=True\n",
    "    elif ans in word and ans not in guessed:\n",
    "        print(\"You guessed it correctly!\")\n",
    "        # create a loop to change '_' to proper letter\n",
    "        for i in range(len(word)):\n",
    "            if word[i] == ans:\n",
    "                  guesses[i]=ans\n",
    "    elif ans in guessed:\n",
    "        print(\"You have already guessed it. Try again\")  \n",
    "    else:\n",
    "        print(\"Sorry, you just lost a life.\")\n",
    "        lives -= 1  \n",
    "        \n",
    "    if ans not in guessed:\n",
    "        guessed.append(ans)   # add guess to guessed list\n",
    "    \n",
    "    if lives <= 0:\n",
    "        print(\"You lost all your lives, so you lost!\")\n",
    "        game_over=True   \n",
    "    \n",
    "    elif word == \"\".join(guesses):\n",
    "        print(\"Congratulations, you got the word! : {}\".format(word))\n",
    "        game_over=True"
   ]
  },
  {
   "cell_type": "markdown",
   "metadata": {},
   "source": [
    "##### Weekly Challenges"
   ]
  },
  {
   "cell_type": "code",
   "execution_count": 94,
   "metadata": {
    "scrolled": true
   },
   "outputs": [
    {
     "name": "stdout",
     "output_type": "stream",
     "text": [
      "     \n",
      "     x\n",
      "    x x\n",
      "   x x x\n"
     ]
    }
   ],
   "source": [
    "# pyramids\n",
    "n=4\n",
    "for i in range(n):\n",
    "        print (\" \" * (n-i), \" x\" * i)"
   ]
  },
  {
   "cell_type": "code",
   "execution_count": 4,
   "metadata": {
    "scrolled": true
   },
   "outputs": [
    {
     "name": "stdout",
     "output_type": "stream",
     "text": [
      "James\n",
      "Rosy\n"
     ]
    }
   ],
   "source": [
    "# output names\n",
    "\n",
    "names=[\"James\", \"\", \"Rosy\", 8]\n",
    "for name in names:\n",
    "    if type(name) == str and len(str(name)) > 0:\n",
    "                print(name)"
   ]
  },
  {
   "cell_type": "code",
   "execution_count": 20,
   "metadata": {},
   "outputs": [
    {
     "name": "stdout",
     "output_type": "stream",
     "text": [
      "[89.6, 53.6, 111.2, 84.2]\n"
     ]
    }
   ],
   "source": [
    "# convert celsius\n",
    "\n",
    "temps=[32, 12, 44, 29]\n",
    "for i in range(len(temps)):\n",
    "        temps[i]=((9/5) * temps[i] + 32)\n",
    "        \n",
    "print(temps)      "
   ]
  }
 ],
 "metadata": {
  "kernelspec": {
   "display_name": "Python 3",
   "language": "python",
   "name": "python3"
  },
  "language_info": {
   "codemirror_mode": {
    "name": "ipython",
    "version": 3
   },
   "file_extension": ".py",
   "mimetype": "text/x-python",
   "name": "python",
   "nbconvert_exporter": "python",
   "pygments_lexer": "ipython3",
   "version": "3.8.3"
  }
 },
 "nbformat": 4,
 "nbformat_minor": 4
}
