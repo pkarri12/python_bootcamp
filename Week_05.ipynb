{
 "cells": [
  {
   "cell_type": "markdown",
   "metadata": {},
   "source": [
    "## Creating & Calling Functions"
   ]
  },
  {
   "cell_type": "code",
   "execution_count": 8,
   "metadata": {},
   "outputs": [
    {
     "name": "stdout",
     "output_type": "stream",
     "text": [
      "Name: yaml\n",
      "Age: 33\n",
      "Name: yaml\n",
      "Age: 33\n"
     ]
    }
   ],
   "source": [
    "# function syntax\n",
    "#def functionName(para):\n",
    "# writing first function\n",
    "\n",
    "def printInfo():    # defines what the function does when called     \n",
    "        print(\"Name: yaml\")\n",
    "        print(\"Age: 33\")\n",
    "        \n",
    "printInfo()         # calls the function to run\n",
    "printInfo()         # calls the function again"
   ]
  },
  {
   "cell_type": "code",
   "execution_count": 13,
   "metadata": {
    "scrolled": true
   },
   "outputs": [
    {
     "name": "stdout",
     "output_type": "stream",
     "text": [
      "12\n"
     ]
    }
   ],
   "source": [
    "# performing a calculation in a function\n",
    "\n",
    "def calc():\n",
    "    x, y=4, 8\n",
    "    print(x+y)\n",
    "\n",
    "calc()        # will run the block of code within calc"
   ]
  },
  {
   "cell_type": "markdown",
   "metadata": {},
   "source": [
    "##### Monday Exercises"
   ]
  },
  {
   "cell_type": "code",
   "execution_count": 15,
   "metadata": {},
   "outputs": [
    {
     "name": "stdout",
     "output_type": "stream",
     "text": [
      "Sydney life\n"
     ]
    }
   ],
   "source": [
    "# print name\n",
    "\n",
    "def myName():\n",
    "    print(\"Sydney life\")\n",
    "    \n",
    "myName()"
   ]
  },
  {
   "cell_type": "code",
   "execution_count": 18,
   "metadata": {},
   "outputs": [
    {
     "name": "stdout",
     "output_type": "stream",
     "text": [
      "olives, spinach, tomatoes, cheese\n",
      "olives, spinach, tomatoes, cheese\n",
      "olives, spinach, tomatoes, cheese\n"
     ]
    }
   ],
   "source": [
    "# pizza toppings\n",
    "\n",
    "def pizza_tops():\n",
    "    print(\"olives, spinach, tomatoes, cheese\")\n",
    "    \n",
    "pizza_tops()\n",
    "pizza_tops()\n",
    "pizza_tops()"
   ]
  },
  {
   "cell_type": "markdown",
   "metadata": {},
   "source": [
    "##### Parameters"
   ]
  },
  {
   "cell_type": "code",
   "execution_count": 20,
   "metadata": {},
   "outputs": [
    {
     "name": "stdout",
     "output_type": "stream",
     "text": [
      "Hello yaml\n"
     ]
    }
   ],
   "source": [
    "# accepting parameters into a function\n",
    "\n",
    "def printName(name):\n",
    "    print(\"Hello {}\".format(name))\n",
    "    \n",
    "printName(\"yaml\")"
   ]
  },
  {
   "cell_type": "code",
   "execution_count": 21,
   "metadata": {},
   "outputs": [
    {
     "name": "stdout",
     "output_type": "stream",
     "text": [
      "Your name is: Jason Bunny\n",
      "Your name is: Alex Johnson\n"
     ]
    }
   ],
   "source": [
    "# passing a single parameter into a function\n",
    "\n",
    "def printName(full_name):\n",
    "    print(\"Your name is: {}\".format(full_name))\n",
    "    \n",
    "printName(\"Jason Bunny\")\n",
    "printName(\"Alex Johnson\")"
   ]
  },
  {
   "cell_type": "code",
   "execution_count": 23,
   "metadata": {},
   "outputs": [
    {
     "name": "stdout",
     "output_type": "stream",
     "text": [
      "6 + 7 = 13\n",
      "4.4 + 8.6 = 13.0\n"
     ]
    }
   ],
   "source": [
    "# passing multiple parameters into a function\n",
    "\n",
    "def addNums(num1, num2):\n",
    "    result=num1 + num2\n",
    "    print(\"{} + {} = {}\".format(num1, num2, result))\n",
    "\n",
    "addNums(6, 7)\n",
    "addNums(4.4, 8.6)"
   ]
  },
  {
   "cell_type": "code",
   "execution_count": 4,
   "metadata": {},
   "outputs": [
    {
     "name": "stdout",
     "output_type": "stream",
     "text": [
      "1\n",
      "9\n",
      "16\n",
      "49\n",
      "64\n",
      "25\n",
      "36\n",
      "81\n"
     ]
    }
   ],
   "source": [
    "# using a function to square all information - using lists\n",
    "\n",
    "numbers1=[1, 3, 4, 7, 8]\n",
    "numbers2=[5, 6, 9]\n",
    "def squares(nums):\n",
    "    for num in nums:\n",
    "        print(num**2)\n",
    "\n",
    "squares(numbers1)\n",
    "squares(numbers2)"
   ]
  },
  {
   "cell_type": "code",
   "execution_count": 5,
   "metadata": {},
   "outputs": [
    {
     "name": "stdout",
     "output_type": "stream",
     "text": [
      "Area: 28.26\n"
     ]
    }
   ],
   "source": [
    "# setting default parameter values\n",
    "\n",
    "def calcArea(r, pi=3.14):   # default parameters MUST always\n",
    "    # go after non-default parameters\n",
    "        area=pi * (r**2)\n",
    "        print(\"Area: {}\".format(area))\n",
    "        \n",
    "calcArea(3)       # assuming radius is 3"
   ]
  },
  {
   "cell_type": "code",
   "execution_count": 7,
   "metadata": {},
   "outputs": [
    {
     "name": "stdout",
     "output_type": "stream",
     "text": [
      "Elsa Anna\n",
      "Elsa Frozo Anna\n"
     ]
    }
   ],
   "source": [
    "# making parameters optional\n",
    "\n",
    "def printName(first, last, middle=\"\"):\n",
    "    if middle:\n",
    "        print(\"{} {} {}\".format(first, middle, last))\n",
    "    else:\n",
    "        print(\"{} {}\".format(first, last))\n",
    "\n",
    "printName(\"Elsa\", \"Anna\")\n",
    "printName(\"Elsa\", \"Anna\", \"Frozo\")     # will output with middle name"
   ]
  },
  {
   "cell_type": "code",
   "execution_count": 8,
   "metadata": {},
   "outputs": [
    {
     "name": "stdout",
     "output_type": "stream",
     "text": [
      "4\n",
      "5\n"
     ]
    }
   ],
   "source": [
    "# named parameter assignment\n",
    "# explicitly assigning values to parameters by referencing the name\n",
    "\n",
    "def addNums(num1, num2):\n",
    "        print(num2)\n",
    "        print(num1)\n",
    "\n",
    "addNums(5, num2=4)"
   ]
  },
  {
   "cell_type": "code",
   "execution_count": 9,
   "metadata": {},
   "outputs": [
    {
     "name": "stdout",
     "output_type": "stream",
     "text": [
      "<class 'tuple'>\n",
      "32\n",
      "True\n",
      "Kay\n"
     ]
    }
   ],
   "source": [
    "# using args parameter to take in a tuple of arbitrary values\n",
    "\n",
    "def outputData(name, *args):\n",
    "        print(type(args))\n",
    "        for arg in args:\n",
    "                print(arg)\n",
    "\n",
    "outputData(\"Lisa Munchkin\", 32, True, \"Kay\")"
   ]
  },
  {
   "cell_type": "code",
   "execution_count": 16,
   "metadata": {
    "scrolled": true
   },
   "outputs": [
    {
     "name": "stdout",
     "output_type": "stream",
     "text": [
      "<class 'dict'>\n",
      "Lisa Munchkin\n",
      "6\n",
      "True\n"
     ]
    }
   ],
   "source": [
    "# using kwargs parameter to take in a dictionary of arbitrary values\n",
    "\n",
    "def outputData(**kwargs):\n",
    "    print(type(kwargs))\n",
    "    print(kwargs[\"name\"])\n",
    "    print(kwargs[\"num\"])\n",
    "    print(kwargs[\"b\"])\n",
    "outputData(name=\"Lisa Munchkin\", num=6, b=True)"
   ]
  },
  {
   "cell_type": "markdown",
   "metadata": {},
   "source": [
    "##### Tuesday Exercises"
   ]
  },
  {
   "cell_type": "code",
   "execution_count": 18,
   "metadata": {
    "scrolled": true
   },
   "outputs": [
    {
     "name": "stdout",
     "output_type": "stream",
     "text": [
      "Enter anyword: problem\n",
      "False\n"
     ]
    }
   ],
   "source": [
    "# user input\n",
    "\n",
    "def checkUpperCase(word):      \n",
    "        if word[0] == word[0].upper():\n",
    "            print(True)\n",
    "        else:\n",
    "            print(False)\n",
    "\n",
    "usip=input(\"Enter anyword: \")\n",
    "\n",
    "checkUpperCase(usip)"
   ]
  },
  {
   "cell_type": "code",
   "execution_count": 21,
   "metadata": {},
   "outputs": [
    {
     "name": "stdout",
     "output_type": "stream",
     "text": [
      "No name passed in\n",
      "Elsa Anna\n",
      "Elsa \n",
      "Anna \n"
     ]
    }
   ],
   "source": [
    "# no name:\n",
    "\n",
    "def outputName(first_name=\"\", last_name=\"\"):\n",
    "        if not first_name and not last_name:\n",
    "            print(\"No name passed in\")\n",
    "        else:\n",
    "            print(\"{} {}\".format(first_name, last_name))\n",
    "            \n",
    "outputName()\n",
    "outputName(\"Elsa\", \"Anna\")\n",
    "outputName(\"Elsa\")\n",
    "outputName(\"Anna\")               "
   ]
  },
  {
   "cell_type": "markdown",
   "metadata": {},
   "source": [
    "##### Return Statement"
   ]
  },
  {
   "cell_type": "code",
   "execution_count": 22,
   "metadata": {},
   "outputs": [
    {
     "name": "stdout",
     "output_type": "stream",
     "text": [
      "10\n"
     ]
    }
   ],
   "source": [
    "# returning information and storing into a variable\n",
    "\n",
    "def addNums(num1,num2):\n",
    "    return num1 + num2\n",
    "num=addNums(5, 5)\n",
    "print(num)"
   ]
  },
  {
   "cell_type": "code",
   "execution_count": 23,
   "metadata": {},
   "outputs": [],
   "source": [
    "def returnMultiple():\n",
    "        a=6\n",
    "        b=4\n",
    "        return[a, b]  # one data type holding multiple items"
   ]
  },
  {
   "cell_type": "code",
   "execution_count": 24,
   "metadata": {},
   "outputs": [
    {
     "name": "stdout",
     "output_type": "stream",
     "text": [
      "11.0\n",
      "12\n"
     ]
    }
   ],
   "source": [
    "# using return keyword to return the sum of two numbers\n",
    "\n",
    "def addNums(num1, num2):\n",
    "    return num1 + num2\n",
    "num=addNums(4.4, 6.6) # saved returned value into num variable\n",
    "print(num)\n",
    "print(addNums(6, 6))  # doesn't save returned value"
   ]
  },
  {
   "cell_type": "code",
   "execution_count": 26,
   "metadata": {},
   "outputs": [
    {
     "name": "stdout",
     "output_type": "stream",
     "text": [
      "True\n"
     ]
    }
   ],
   "source": [
    "# shorthand syntax using a ternary operator\n",
    "\n",
    "def searchList(aList, el):\n",
    "    return True if el in aList else False\n",
    "result=searchList([\"one\", 2, \"three\"], 2)  # result = True\n",
    "print(result)"
   ]
  },
  {
   "cell_type": "markdown",
   "metadata": {},
   "source": [
    "##### Wednesday Exercises"
   ]
  },
  {
   "cell_type": "code",
   "execution_count": 60,
   "metadata": {},
   "outputs": [
    {
     "data": {
      "text/plain": [
       "'Emily Watson'"
      ]
     },
     "execution_count": 60,
     "metadata": {},
     "output_type": "execute_result"
    }
   ],
   "source": [
    "# full name\n",
    "\n",
    "def joinNames(first_name, last_name):\n",
    "    return first_name + \" \" + last_name\n",
    "\n",
    "joinNames(\"Emily\", \"Watson\")"
   ]
  },
  {
   "cell_type": "code",
   "execution_count": 61,
   "metadata": {},
   "outputs": [
    {
     "name": "stdout",
     "output_type": "stream",
     "text": [
      "Enter a word: fine\n",
      "fine\n"
     ]
    }
   ],
   "source": [
    "# user input\n",
    "\n",
    "def userInput():\n",
    "    return input(\"Enter a word: \")\n",
    "    \n",
    "ans=userInput()\n",
    "print(ans)"
   ]
  },
  {
   "cell_type": "markdown",
   "metadata": {},
   "source": [
    "##### SCOPE"
   ]
  },
  {
   "cell_type": "code",
   "execution_count": 63,
   "metadata": {},
   "outputs": [],
   "source": [
    "# three scopes: global, function and class\n",
    "# where global variables can be accessed\n",
    "number=5\n",
    "def scopeTest():\n",
    "    number += 1 # not accessible due to function level scope\n",
    "\n",
    "scopeTest()  # will result in an error"
   ]
  },
  {
   "cell_type": "code",
   "execution_count": 64,
   "metadata": {},
   "outputs": [
    {
     "name": "stdout",
     "output_type": "stream",
     "text": [
      "function\n"
     ]
    }
   ],
   "source": [
    "# accesssing variables defined in a function\n",
    "\n",
    "def scopeTest():\n",
    "    word=\"function\"\n",
    "    return word\n",
    "value=scopeTest()\n",
    "print(value)"
   ]
  },
  {
   "cell_type": "code",
   "execution_count": 66,
   "metadata": {},
   "outputs": [
    {
     "name": "stdout",
     "output_type": "stream",
     "text": [
      "Before Altering: ['baseball', 'football', 'hockey', 'basketball']\n",
      "After Altering: ['soccer', 'football', 'hockey', 'basketball']\n"
     ]
    }
   ],
   "source": [
    "# in-place algorithms\n",
    "\n",
    "# changing list item values by index\n",
    "sports=[\"baseball\", \"football\", \"hockey\", \"basketball\"]\n",
    "def change(aList):\n",
    "    aList[0]=\"soccer\"\n",
    "print(\"Before Altering: {}\".format(sports))\n",
    "change(sports)\n",
    "print(\"After Altering: {}\".format(sports))"
   ]
  },
  {
   "cell_type": "markdown",
   "metadata": {},
   "source": [
    "##### Thursday Exercises"
   ]
  },
  {
   "cell_type": "code",
   "execution_count": 70,
   "metadata": {
    "scrolled": true
   },
   "outputs": [
    {
     "name": "stdout",
     "output_type": "stream",
     "text": [
      "['Bob', 'Bill', 'Amanda']\n"
     ]
    }
   ],
   "source": [
    "# names\n",
    "\n",
    "names=[\"Bob\", \"Rich\", \"Amanda\"]\n",
    "def changeValue(aList, name, index):\n",
    "    aList[index]=name\n",
    "\n",
    "changeValue(names, \"Bill\", 1)\n",
    "print(names)"
   ]
  },
  {
   "cell_type": "markdown",
   "metadata": {},
   "source": [
    "### Friday Project: Creating a Shopping Cart"
   ]
  },
  {
   "cell_type": "code",
   "execution_count": 72,
   "metadata": {},
   "outputs": [],
   "source": [
    "# logical design\n",
    "\n",
    "# start    user input    actions\n",
    "#          add           add items\n",
    "#          remove        remove items\n",
    "#          clear         clear items\n",
    "#          show          print items\n",
    "#          quit          end"
   ]
  },
  {
   "cell_type": "code",
   "execution_count": 1,
   "metadata": {},
   "outputs": [
    {
     "name": "stdout",
     "output_type": "stream",
     "text": [
      "Here is your cart: \n",
      "- Milk\n",
      "- Banana\n",
      "Enter add/remove/show/clear/quit: hehehe\n",
      "Sorry that was not a valid option!\n",
      "Enter add/remove/show/clear/quit: quit\n",
      "Thank you for playing!\n"
     ]
    }
   ],
   "source": [
    "# Shopping cart program - shopCart\n",
    "# import functions\n",
    "from IPython.display import clear_output\n",
    "# global list variable\n",
    "cart=[]\n",
    "# create addItem function\n",
    "def addItem(item):\n",
    "    clear_output()\n",
    "    cart.append(item)\n",
    "    print(\"{} has been added.\".format(item))\n",
    "# create removeItem function\n",
    "def removeItem(item):\n",
    "    clear_output()\n",
    "    try:\n",
    "        cart.remove(item)\n",
    "        print(\"{} has been removed.\".format(item))\n",
    "    except:\n",
    "        print(\"Sorry! That {} doesn't exist in cart.\".format(item))\n",
    "# create showCart function\n",
    "def showCart():\n",
    "        clear_output()\n",
    "        if cart:\n",
    "            print(\"Here is your cart: \")\n",
    "            for item in cart:\n",
    "                print(\"- {}\".format(item))\n",
    "        else:\n",
    "            print(\"Cart is empty.\")\n",
    "# create clearCart function\n",
    "def clearCart():\n",
    "        clear_output()\n",
    "        cart.clear()\n",
    "        print(\"Your cart is empty\")\n",
    "# create main loop\n",
    "def shopCart():\n",
    "        done=False\n",
    "        while not done:\n",
    "            ans=input(\"Enter add/remove/show/clear/quit: \").lower()\n",
    "            if ans == \"quit\":\n",
    "                print(\"Thank you for playing!\")\n",
    "                done=True\n",
    "            elif ans == \"add\":\n",
    "                item=input(\"What would you like to add?\").title()\n",
    "                addItem(item)\n",
    "            elif ans == \"remove\":\n",
    "                showCart()\n",
    "                item=input(\"What would you like to remove\").title()\n",
    "                removeItem(item)\n",
    "            elif ans == \"show\":\n",
    "                showCart()\n",
    "            elif ans == \"clear\":\n",
    "                clearCart()\n",
    "            else:\n",
    "                print(\"Sorry that was not a valid option!\")\n",
    "                \n",
    "shopCart()"
   ]
  },
  {
   "cell_type": "code",
   "execution_count": null,
   "metadata": {},
   "outputs": [],
   "source": []
  }
 ],
 "metadata": {
  "kernelspec": {
   "display_name": "Python 3",
   "language": "python",
   "name": "python3"
  },
  "language_info": {
   "codemirror_mode": {
    "name": "ipython",
    "version": 3
   },
   "file_extension": ".py",
   "mimetype": "text/x-python",
   "name": "python",
   "nbconvert_exporter": "python",
   "pygments_lexer": "ipython3",
   "version": "3.8.3"
  }
 },
 "nbformat": 4,
 "nbformat_minor": 4
}
