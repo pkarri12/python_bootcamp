{
 "cells": [
  {
   "cell_type": "markdown",
   "metadata": {},
   "source": [
    "## Data Collections and Files"
   ]
  },
  {
   "cell_type": "markdown",
   "metadata": {},
   "source": [
    "##### Challenge question  "
   ]
  },
  {
   "cell_type": "code",
   "execution_count": 22,
   "metadata": {},
   "outputs": [
    {
     "data": {
      "text/plain": [
       "True"
      ]
     },
     "execution_count": 22,
     "metadata": {},
     "output_type": "execute_result"
    }
   ],
   "source": [
    "def checkPalindrome(word):\n",
    "        return True if word == word[::-1] else False\n",
    "    \n",
    "checkPalindrome(\"level\")"
   ]
  },
  {
   "cell_type": "markdown",
   "metadata": {},
   "source": [
    "#### Dictionaries"
   ]
  },
  {
   "cell_type": "code",
   "execution_count": 23,
   "metadata": {},
   "outputs": [
    {
     "name": "stdout",
     "output_type": "stream",
     "text": [
      "{}\n",
      "{'name': 'Jason Mraz'}\n",
      "{'name': 'Kris', 'age': 33}\n"
     ]
    }
   ],
   "source": [
    "# declaring a dictionary variable\n",
    "\n",
    "empty={}       # empty dictionary\n",
    "person={\"name\":\"Jason Mraz\"}   # dictionary with one key value pair\n",
    "customer={\"name\":\"Kris\", \"age\":33}   # dictionary with  two key value pairs\n",
    "\n",
    "print(empty)\n",
    "print(person)\n",
    "print(customer)"
   ]
  },
  {
   "cell_type": "code",
   "execution_count": 26,
   "metadata": {
    "scrolled": true
   },
   "outputs": [
    {
     "name": "stdout",
     "output_type": "stream",
     "text": [
      "chris\n"
     ]
    }
   ],
   "source": [
    "# accessing dictionary information through keys\n",
    "person={\"name\":\"chris\"}\n",
    "print(person[\"name\"])  # access information through the key"
   ]
  },
  {
   "cell_type": "code",
   "execution_count": 27,
   "metadata": {},
   "outputs": [
    {
     "name": "stdout",
     "output_type": "stream",
     "text": [
      "John\n",
      "Age is not available.\n"
     ]
    }
   ],
   "source": [
    "# using the get method to access dictionary information\n",
    "person={\"name\":\"John\"}\n",
    "print(person.get(\"name\"))  # retrieves value of name key \n",
    "print(person.get(\"age\", \"Age is not available.\"))  # get is a secure way to retrieve information"
   ]
  },
  {
   "cell_type": "code",
   "execution_count": 28,
   "metadata": {},
   "outputs": [
    {
     "name": "stdout",
     "output_type": "stream",
     "text": [
      "cricket\n"
     ]
    }
   ],
   "source": [
    "# dictionaries with lists\n",
    "# storing a list within a dictionary and accessing it\n",
    "\n",
    "data={\"sports\":[\"hockey\", \"cricket\", \"baseball\", \"basketball\"]}\n",
    "print(data[\"sports\"][1]) # first access the key, then the index"
   ]
  },
  {
   "cell_type": "code",
   "execution_count": 30,
   "metadata": {},
   "outputs": [],
   "source": [
    "# improperly storing a list within a dictionary\n",
    "\n",
    "sports=[\"football\", \"hockey\", \"cricket\"]\n",
    "#sports_dict=dict(sports)    # will produce error, no key\n",
    "sports_dict=dict({\"sports\":sports})"
   ]
  },
  {
   "cell_type": "code",
   "execution_count": 31,
   "metadata": {},
   "outputs": [
    {
     "name": "stdout",
     "output_type": "stream",
     "text": [
      "{'name': 'Thor'}\n",
      "Thor\n"
     ]
    }
   ],
   "source": [
    "# storing a dictionary within a list and accessing it\n",
    "\n",
    "data=[\"Chris\", \"Hemsworth\", {\"name\":\"Thor\"}]\n",
    "print(data[2])  # the dictionary is in index 2\n",
    "print(data[2][\"name\"])  # first access the index then the key"
   ]
  },
  {
   "cell_type": "code",
   "execution_count": 32,
   "metadata": {},
   "outputs": [
    {
     "name": "stdout",
     "output_type": "stream",
     "text": [
      "{'2020': 111, '2019': 99}\n",
      "111\n"
     ]
    }
   ],
   "source": [
    "# storing a dictionary within a dictionary and accessing it\n",
    "\n",
    "data={\"team\":\"Boston Red Sox\", \"wins\":{\"2020\":111, \"2019\":99}}\n",
    "print(data[\"wins\"])  # output the dictionary within wins key\n",
    "print(data[\"wins\"][\"2020\"])  # first access the wins key then the next key"
   ]
  },
  {
   "cell_type": "markdown",
   "metadata": {},
   "source": [
    "##### Monday Exercises"
   ]
  },
  {
   "cell_type": "code",
   "execution_count": 20,
   "metadata": {
    "scrolled": true
   },
   "outputs": [
    {
     "name": "stdout",
     "output_type": "stream",
     "text": [
      "Enter your name: lisa\n",
      "Enter your age: 33\n",
      "{'name': 'Lisa', 'age': '33'}\n"
     ]
    }
   ],
   "source": [
    "### user input\n",
    "\n",
    "usip_name=input(\"Enter your name: \").title()\n",
    "usip_age=input(\"Enter your age: \")\n",
    "usip_dic={\"name\":usip_name, \"age\":usip_age}\n",
    "print(usip_dic)"
   ]
  },
  {
   "cell_type": "code",
   "execution_count": 22,
   "metadata": {
    "scrolled": true
   },
   "outputs": [
    {
     "name": "stdout",
     "output_type": "stream",
     "text": [
      "cheese\n",
      "sausage\n",
      "peppers \n"
     ]
    }
   ],
   "source": [
    "# accessing ingredients\n",
    "\n",
    "pizza={\"ingredients\":[\"cheese\", \"sausage\", \"peppers \"]}\n",
    "for ingredient in pizza[\"ingredients\"]:\n",
    "    print(ingredient)"
   ]
  },
  {
   "cell_type": "markdown",
   "metadata": {},
   "source": [
    "##### Working with Dictionaries"
   ]
  },
  {
   "cell_type": "code",
   "execution_count": 24,
   "metadata": {},
   "outputs": [
    {
     "name": "stdout",
     "output_type": "stream",
     "text": [
      "Year: 2019\tColor: red\n"
     ]
    }
   ],
   "source": [
    "# adding new key/value pairs to a dictionary\n",
    "\n",
    "car={\"year\":2019}\n",
    "car[\"color\"]=\"red\"\n",
    "print(\"Year: {}\\tColor: {}\".format(car[\"year\"], car[\"color\"]))"
   ]
  },
  {
   "cell_type": "code",
   "execution_count": 25,
   "metadata": {},
   "outputs": [
    {
     "name": "stdout",
     "output_type": "stream",
     "text": [
      "Year: 2019 \t Color: blue\n"
     ]
    }
   ],
   "source": [
    "# updating a value for a key/value pair that already exists\n",
    "\n",
    "car={\"year\":2019, \"color\":\"red\"}\n",
    "car[\"color\"]=\"blue\"\n",
    "print(\"Year: {} \\t Color: {}\".format(car[\"year\"], car[\"color\"]))"
   ]
  },
  {
   "cell_type": "code",
   "execution_count": 26,
   "metadata": {},
   "outputs": [
    {
     "name": "stdout",
     "output_type": "stream",
     "text": [
      "{}\n"
     ]
    }
   ],
   "source": [
    "# deleting a key/value pair from a dictionary\n",
    "\n",
    "car={\"year\":2019}\n",
    "try:\n",
    "    del car[\"year\"]\n",
    "    print(car)\n",
    "except:\n",
    "    print(\"That key doesn't exist\")"
   ]
  },
  {
   "cell_type": "code",
   "execution_count": 27,
   "metadata": {},
   "outputs": [
    {
     "name": "stdout",
     "output_type": "stream",
     "text": [
      "name\n",
      "Steve\n",
      "age\n",
      "58\n"
     ]
    }
   ],
   "source": [
    "# looping over a dictionary via the keys\n",
    "\n",
    "person={\"name\":\"Steve\", \"age\":58}\n",
    "for key in person.keys():\n",
    "    print(key)\n",
    "    print(person[key])  # will output the value at the key"
   ]
  },
  {
   "cell_type": "code",
   "execution_count": 28,
   "metadata": {},
   "outputs": [
    {
     "name": "stdout",
     "output_type": "stream",
     "text": [
      "Steve\n",
      "58\n"
     ]
    }
   ],
   "source": [
    "# looping only values\n",
    "\n",
    "person={\"name\":\"Steve\", \"age\":58}\n",
    "for value in person.values():\n",
    "    print(value)"
   ]
  },
  {
   "cell_type": "code",
   "execution_count": 29,
   "metadata": {},
   "outputs": [
    {
     "name": "stdout",
     "output_type": "stream",
     "text": [
      "name: Steve\n",
      "age: 58\n"
     ]
    }
   ],
   "source": [
    "# looping over a dictionary via the key/value pair\n",
    "\n",
    "person={\"name\":\"Steve\", \"age\":58}\n",
    "for key, value in person.items():\n",
    "    print(\"{}: {}\".format(key, value))"
   ]
  },
  {
   "cell_type": "markdown",
   "metadata": {},
   "source": [
    "##### Tuesday Exercises"
   ]
  },
  {
   "cell_type": "code",
   "execution_count": 40,
   "metadata": {},
   "outputs": [
    {
     "name": "stdout",
     "output_type": "stream",
     "text": [
      "What is your name? lisa\n",
      "What is your address? gandhi st\n",
      "Enter your number: 1110002323\n",
      "name: Lisa\n",
      "address: Gandhi St\n",
      "number: 1110002323\n"
     ]
    }
   ],
   "source": [
    "# user input\n",
    "\n",
    "details={}\n",
    "name=input(\"What is your name? \").title()\n",
    "address=input(\"What is your address? \").title()\n",
    "number=input(\"Enter your number: \")\n",
    "details[\"name\"]=name\n",
    "details[\"address\"]=address\n",
    "details[\"number\"]=number\n",
    "for key, value in details.items():\n",
    "        print(\"{}: {}\".format(key, value))"
   ]
  },
  {
   "cell_type": "code",
   "execution_count": 42,
   "metadata": {
    "scrolled": true
   },
   "outputs": [
    {
     "name": "stdout",
     "output_type": "stream",
     "text": [
      "John Smith\n"
     ]
    }
   ],
   "source": [
    "# problem-solving\n",
    "\n",
    "person={\"name\":\"John Smith\"}\n",
    "print(person[\"name\"])"
   ]
  },
  {
   "cell_type": "markdown",
   "metadata": {},
   "source": [
    "##### Tuples, Sets, Frozensets"
   ]
  },
  {
   "cell_type": "code",
   "execution_count": 45,
   "metadata": {},
   "outputs": [
    {
     "name": "stdout",
     "output_type": "stream",
     "text": [
      "<class 'tuple'> <class 'tuple'>\n"
     ]
    }
   ],
   "source": [
    "# declaring a tuple(just like a list but not mutable)\n",
    "\n",
    "t1=(\"hello\", 3, \"Hello\")         # with parenthesis\n",
    "t2=True, 4                       # without parenthesis\n",
    "print(type(t1), type(t2))        # both are tuples"
   ]
  },
  {
   "cell_type": "code",
   "execution_count": 47,
   "metadata": {},
   "outputs": [
    {
     "name": "stdout",
     "output_type": "stream",
     "text": [
      "<class 'set'> <class 'set'>\n",
      "{2, 3, 4, 6}\n",
      "{3, 5}\n"
     ]
    }
   ],
   "source": [
    "# set - can only contain unique values and is unordered\n",
    "# declaring a set\n",
    "\n",
    "s1=set([1, 2, 3, 4, 1])  # uses the set keyword and square brac\n",
    "s2={3, 3, 5}    # uses curly brackets, like dictionary\n",
    "print(type(s1), type(s2))\n",
    "s1.add(6)    # using the add method to add new items set\n",
    "s1.remove(1) # using the remove method to get rid of value 1\n",
    "print(s1)    # notice when printed it removed the second 1\n",
    "print(s2)"
   ]
  },
  {
   "cell_type": "code",
   "execution_count": 48,
   "metadata": {},
   "outputs": [
    {
     "name": "stdout",
     "output_type": "stream",
     "text": [
      "<class 'frozenset'>\n"
     ]
    }
   ],
   "source": [
    "# frozensets - are immutable, unordered and unique\n",
    "\n",
    "# declaring a frozenset\n",
    "fset=frozenset([1, 2, 3, 4, 5])\n",
    "print(type(fset))"
   ]
  },
  {
   "cell_type": "markdown",
   "metadata": {},
   "source": [
    "##### Wednesday Exercises"
   ]
  },
  {
   "cell_type": "code",
   "execution_count": 8,
   "metadata": {},
   "outputs": [
    {
     "name": "stdout",
     "output_type": "stream",
     "text": [
      "Enter bank account number or quit: 123\n",
      "Enter bank account number or quit: 456\n",
      "Enter bank account number or quit: quit\n",
      "Account number: 123\n",
      "Account number: 456\n"
     ]
    }
   ],
   "source": [
    "# user input\n",
    "done=False\n",
    "userList=[]\n",
    "\n",
    "while not done:\n",
    "        ans=input(\"Enter bank account number or quit: \").lower()\n",
    "        if ans == \"quit\":\n",
    "            done=True\n",
    "            \n",
    "            userList=frozenset(userList)\n",
    "            for account in userList:\n",
    "                print(\"Account number: {}\".format(account))\n",
    "        else:\n",
    "             userList.append(ans)"
   ]
  },
  {
   "cell_type": "code",
   "execution_count": 9,
   "metadata": {},
   "outputs": [
    {
     "name": "stdout",
     "output_type": "stream",
     "text": [
      "{3, 4, 5, 6, 7}\n"
     ]
    }
   ],
   "source": [
    "# conversion\n",
    "\n",
    "nums=[3, 4, 5, 3, 6, 7]\n",
    "nums=set(nums)\n",
    "print(nums)"
   ]
  },
  {
   "cell_type": "markdown",
   "metadata": {},
   "source": [
    "##### Reading and Writing Files"
   ]
  },
  {
   "cell_type": "code",
   "execution_count": 13,
   "metadata": {
    "scrolled": true
   },
   "outputs": [
    {
     "name": "stdout",
     "output_type": "stream",
     "text": [
      "This is a test\n"
     ]
    }
   ],
   "source": [
    "# opening/creating and writing to a text file\n",
    "\n",
    "f=open(\"test.yml\", \"w+\")  # open file in writing and reading mode\n",
    "f.write(\"This is a test\")\n",
    "f.close()\n",
    "\n",
    "# reading from a text file\n",
    "f=open(\"test.yml\", \"r\")\n",
    "data=f.read()\n",
    "f.close()\n",
    "print(data)"
   ]
  },
  {
   "cell_type": "code",
   "execution_count": 7,
   "metadata": {},
   "outputs": [],
   "source": [
    "# opening/creating and writing to a csv file - using 'with' method\n",
    "\n",
    "import csv\n",
    "with open(\"test.csv\", mode=\"w\", newline=\"\") as f:\n",
    "    writer=csv.writer(f, delimiter=\",\")\n",
    "    writer.writerow([\"Name\", \"City\"])\n",
    "    writer.writerow([\"Craig List\", \"Auckland\"])"
   ]
  },
  {
   "cell_type": "code",
   "execution_count": 8,
   "metadata": {
    "scrolled": true
   },
   "outputs": [
    {
     "name": "stdout",
     "output_type": "stream",
     "text": [
      "['Name', 'City']\n",
      "['Craig List', 'Auckland']\n"
     ]
    }
   ],
   "source": [
    "# reading from csv files\n",
    "\n",
    "with open(\"test.csv\", mode=\"r\") as f:\n",
    "    reader=csv.reader(f, delimiter=\",\")\n",
    "    for row in reader:\n",
    "        print(row)"
   ]
  },
  {
   "cell_type": "markdown",
   "metadata": {},
   "source": [
    "##### Thursday Exercises"
   ]
  },
  {
   "cell_type": "code",
   "execution_count": 14,
   "metadata": {},
   "outputs": [
    {
     "name": "stdout",
     "output_type": "stream",
     "text": [
      "Enter your favorite number: 8\n"
     ]
    }
   ],
   "source": [
    "# user input\n",
    "\n",
    "fav_num=input(\"Enter your favorite number: \")\n",
    "f=open(\"favNum.txt\", \"w+\")\n",
    "f.write(\"Favorite number is {}\".format(fav_num))\n",
    "f.close()"
   ]
  },
  {
   "cell_type": "code",
   "execution_count": 1,
   "metadata": {},
   "outputs": [],
   "source": [
    "# data dumping\n",
    "\n",
    "data={\"name\":[\"Dave\", \"Dennis\", \"Peter\", \"Jess\"],\n",
    "      \"language\":[\"Python\", \"C\", \"Java\", \"Python\"]\n",
    "     }\n",
    "import csv\n",
    "with open(\"data.csv\", mode=\"w\", newline=\"\") as f:\n",
    "    writer=csv.writer(f, delimiter=\",\")\n",
    "    writer.writerow(data.keys())\n",
    "    \n",
    "    for i in range(len(data[\"name\"])):\n",
    "        writer.writerow([data[\"name\"][i], data[\"language\"][i]])"
   ]
  }
 ],
 "metadata": {
  "kernelspec": {
   "display_name": "Python 3",
   "language": "python",
   "name": "python3"
  },
  "language_info": {
   "codemirror_mode": {
    "name": "ipython",
    "version": 3
   },
   "file_extension": ".py",
   "mimetype": "text/x-python",
   "name": "python",
   "nbconvert_exporter": "python",
   "pygments_lexer": "ipython3",
   "version": "3.8.3"
  }
 },
 "nbformat": 4,
 "nbformat_minor": 4
}
