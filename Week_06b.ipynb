{
 "cells": [
  {
   "cell_type": "markdown",
   "metadata": {},
   "source": [
    "##### Friday Project: Creating a User Database with CSV Files"
   ]
  },
  {
   "cell_type": "code",
   "execution_count": 2,
   "metadata": {},
   "outputs": [],
   "source": [
    "# logical steps\n",
    "\n",
    "# 1) Check to see if user is logged in\n",
    "#    (a) If logged in, ask if they would like to log out/quit\n",
    "#        (i) Either quit or log out user and restart\n",
    "#    (b) Else, ask if they want to log in/register/quit\n",
    "#        (i) If log in, ask user for email/password\n",
    "#            1. If correct, log user in and restart\n",
    "#            2. Else, display error and restart\n",
    "#        (ii) If register, ask for email/password/password2\n",
    "#            1. If passwords match, save user and restart\n",
    "#            2. Else, display error and restart\n",
    "#        (iii) If quit, say thank you and exit program       "
   ]
  },
  {
   "cell_type": "code",
   "execution_count": null,
   "metadata": {},
   "outputs": [
    {
     "name": "stdout",
     "output_type": "stream",
     "text": [
      "Sorry, please try again!\n",
      "1. Register\n",
      "2. Login\n",
      "3. Quit\n"
     ]
    }
   ],
   "source": [
    "# User database project\n",
    "# import modules\n",
    "import csv\n",
    "from IPython.display import clear_output\n",
    "\n",
    "# make functions - to register and write to a csv file\n",
    "def registerUser():\n",
    "    with open(\"users.csv\", mode=\"a\", newline=\"\") as f:\n",
    "        writer=csv.writer(f, delimiter=\",\")\n",
    "        \n",
    "        print(\"Please enter below to register:\")\n",
    "        email=input(\"Email: \").lower()\n",
    "        password=input(\"Password: \")\n",
    "        password2=input(\"Type password again: \")\n",
    "        \n",
    "        clear_output()\n",
    "        if password == password2:\n",
    "            writer.writerow([email, password])\n",
    "            print(\"You are now registered!\")\n",
    "        else:\n",
    "            print(\"Invalid email/password, please try again.\")\n",
    "    \n",
    "# make functions - to login user and and return true to login\n",
    "def loginUser():\n",
    "    print(\"Please enter below to login:\")\n",
    "    email=input(\"Email: \")\n",
    "    password=input(\"Password: \")\n",
    "    \n",
    "    clear_output()\n",
    "    with open(\"users.csv\", mode=\"r\") as f:\n",
    "        reader=csv.reader(f, delimiter=\",\")\n",
    "        \n",
    "        for row in reader:\n",
    "            if row == [email, password]:\n",
    "                print(\"You are now logged in!\")\n",
    "                return True\n",
    "    \n",
    "    print(\"Invalid email/password, please try again.\")\n",
    "    return False\n",
    "    \n",
    "# declare variables\n",
    "logged_in=False\n",
    "active=True  \n",
    "# main loop   \n",
    "while active:\n",
    "    if logged_in:\n",
    "        print(\"1. Logout\\n2. Quit\")\n",
    "    else:\n",
    "        print(\"1. Register\\n2. Login\\n3. Quit\")\n",
    "        \n",
    "    choice=input(\"What would you like to do? \").lower()\n",
    "    \n",
    "    clear_output()\n",
    "    \n",
    "    if choice == \"register\" and logged_in == False:\n",
    "        registerUser()\n",
    "    elif choice == \"login\" and logged_in == False:\n",
    "        loginUser()\n",
    "    elif choice == \"logout\" and logged_in == True:\n",
    "        logged_in=False\n",
    "        print(\"You are now logged out.\")\n",
    "    elif choice == \"quit\":\n",
    "        active == False\n",
    "        print(\"Thank you for using our program!\")\n",
    "    else:\n",
    "        print(\"Sorry, please try again!\")             "
   ]
  },
  {
   "cell_type": "markdown",
   "metadata": {},
   "source": [
    "##### Weekly Challenges"
   ]
  },
  {
   "cell_type": "code",
   "execution_count": null,
   "metadata": {},
   "outputs": [],
   "source": [
    "# changing passwords"
   ]
  },
  {
   "cell_type": "code",
   "execution_count": null,
   "metadata": {},
   "outputs": [],
   "source": [
    "# favorite food\n"
   ]
  }
 ],
 "metadata": {
  "kernelspec": {
   "display_name": "Python 3",
   "language": "python",
   "name": "python3"
  },
  "language_info": {
   "codemirror_mode": {
    "name": "ipython",
    "version": 3
   },
   "file_extension": ".py",
   "mimetype": "text/x-python",
   "name": "python",
   "nbconvert_exporter": "python",
   "pygments_lexer": "ipython3",
   "version": "3.8.3"
  }
 },
 "nbformat": 4,
 "nbformat_minor": 4
}
